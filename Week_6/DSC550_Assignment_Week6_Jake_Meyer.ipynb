{
 "cells": [
  {
   "cell_type": "markdown",
   "id": "2ec94498",
   "metadata": {},
   "source": [
    "# DCS 550 Data Mining (DSC550-T302 2227-1)\n",
    "## Bellevue University\n",
    "## 6.2 Exercise: Dimensionality Reduction and Feature Selection\n",
    "## Author: Jake Meyer\n",
    "## Date: 7/17/2022"
   ]
  },
  {
   "cell_type": "markdown",
   "id": "86b7c8f0",
   "metadata": {},
   "source": [
    "## Assignment Instructions:\n",
    "Download the labeled training dataset from this link: [House Prices - Advanced Regression Techniques](https://www.kaggle.com/c/house-prices-advanced-regression-techniques/data?select=train.csv)\n",
    "Assumed the train.csv data is the labeled training dataset."
   ]
  },
  {
   "cell_type": "markdown",
   "id": "57f93c06",
   "metadata": {},
   "source": [
    "### Part 1: PCA and Variance Threshold in a Linear Regression\n",
    "<ol>\n",
    "    <li> Import the housing data as a data frame and ensure that the data is loaded properly.\n",
    "    <li> Drop the \"ID\" column and any features that are missing more than 40% of their values.\n",
    "    <li> For numerical columns, fill in any missing data with the median value.\n",
    "    <li> For categorical columns, fill in any missing data with the most common value (mode). \n",
    "    <li> Convert the categorical columns to dummy variables.\n",
    "    <li> Split the data into a training and test set, where the SalePrice column is the target.\n",
    "    <li> Run a linear regression and report the R-Squared value and RMSE on the test set.\n",
    "    <li> Fit and transform the training features with a PCA so that 90% of the variance is retained (see section 9.1 in the Machine Learning with Python Cookbook).\n",
    "    <li> How many features are in the PCA-transformed matrix?\n",
    "    <li> Transform but DO NOT fit the test features with the same PCA.\n",
    "    <li> Repeat step 7 with your PCA transformed data.\n",
    "    <li> Take your original training features (from step 6) and apply a min-max scaler to them.\n",
    "    <li> Find the min-max scaled features in your training set that have a variance above 0.1 (see Section 10.1 in the Machine Learning with Python Cookbook). \n",
    "    <li> Transform but DO NOT fit the test features with the same steps applied in steps 11 and 12.\n",
    "    <li> Repeat step 7 with the high variance data.\n",
    "    <li> Summarize your findings.\n",
    "<ol>"
   ]
  },
  {
   "cell_type": "markdown",
   "id": "afad3bb6",
   "metadata": {},
   "source": [
    "Download the data from this link: [Mushroom Classification](https://www.kaggle.com/datasets/uciml/mushroom-classification). Based on several categorical features, you will predict whether or not a mushroom is edible or poisonous. "
   ]
  },
  {
   "cell_type": "markdown",
   "id": "935593b9",
   "metadata": {},
   "source": [
    "### Part 2: Categorical Feature Selection\n",
    "<ol>\n",
    "    <li> Import the data as a data frame and ensure it is loaded correctly.\n",
    "    <li> Convert the categorical features (all of them) to dummy variables.\n",
    "    <li> Split the data into a training and test set.\n",
    "    <li> Fit a decision tree classifier on the training set.\n",
    "    <li> Report the accuracy and create a confusion matrix for the model prediction on the test set.\n",
    "    <li> Create a visualization of the decision tree.\n",
    "    <li> Use a χ2-statistic selector to pick the five best features for this data (see section 10.4 of the Machine Learning with Python Cookbook).\n",
    "    <li> Which five features were selected in step 7? Hint: Use the get_support function.\n",
    "    <li> Repeat steps 4 and 5 with the five best features selected in step 7.\n",
    "    <li> Summarize your findings. \n",
    "<ol>"
   ]
  },
  {
   "cell_type": "code",
   "execution_count": 385,
   "id": "6452c85f",
   "metadata": {},
   "outputs": [],
   "source": [
    "'''\n",
    "Import the necessary libraries to complete Exercise 6.2.\n",
    "'''\n",
    "import numpy as np\n",
    "import pandas as pd\n",
    "import seaborn as sns\n",
    "import matplotlib as mpl\n",
    "import matplotlib.pyplot as plt\n",
    "import sklearn\n",
    "%matplotlib inline\n",
    "from sklearn import linear_model\n",
    "from sklearn.model_selection import train_test_split\n",
    "from sklearn.linear_model import LinearRegression\n",
    "from sklearn.linear_model import Lasso\n",
    "from sklearn.tree import DecisionTreeClassifier\n",
    "from sklearn.tree import plot_tree\n",
    "from sklearn.decomposition import PCA\n",
    "from sklearn.preprocessing import StandardScaler\n",
    "from sklearn.preprocessing import MinMaxScaler\n",
    "from sklearn.feature_selection import VarianceThreshold\n",
    "from sklearn.feature_selection import SelectKBest\n",
    "from sklearn.feature_selection import chi2, f_classif\n",
    "from sklearn.metrics import mean_absolute_error\n",
    "from sklearn.metrics import mean_squared_error\n",
    "from sklearn.metrics import r2_score\n",
    "from sklearn.metrics import roc_auc_score\n",
    "from sklearn.metrics import confusion_matrix\n",
    "from sklearn.metrics import precision_score, recall_score, f1_score"
   ]
  },
  {
   "cell_type": "code",
   "execution_count": 376,
   "id": "289b853c",
   "metadata": {},
   "outputs": [
    {
     "name": "stdout",
     "output_type": "stream",
     "text": [
      "numpy version: 1.20.3\n",
      "pandas version: 1.3.4\n",
      "matplotlib version: 3.4.3\n",
      "seaborn: 0.11.2\n",
      "sklearn: 0.24.2\n"
     ]
    }
   ],
   "source": [
    "'''\n",
    "Check the versions of the packages.\n",
    "'''\n",
    "print('numpy version:', np.__version__)\n",
    "print('pandas version:', pd.__version__)\n",
    "print('matplotlib version:', mpl.__version__)\n",
    "print('seaborn:', sns.__version__)\n",
    "print('sklearn:', sklearn.__version__)"
   ]
  },
  {
   "cell_type": "markdown",
   "id": "1355b653",
   "metadata": {},
   "source": [
    "## Part 1: PCA and Variance Threshold in a Linear Regression"
   ]
  },
  {
   "cell_type": "markdown",
   "id": "4ea91e5e",
   "metadata": {},
   "source": [
    "### Part 1.1 - Import the housing data as a data frame and ensure that the data is loaded properly."
   ]
  },
  {
   "cell_type": "code",
   "execution_count": 234,
   "id": "e4a6abca",
   "metadata": {},
   "outputs": [],
   "source": [
    "'''\n",
    "Section 1.1 - Import Data\n",
    "Import the house data from train.csv.\n",
    "Note: A copy of the CSV file was placed into the same directory as this notebook.\n",
    "'''\n",
    "df_house = pd.read_csv('train.csv')"
   ]
  },
  {
   "cell_type": "code",
   "execution_count": 235,
   "id": "8b646165",
   "metadata": {},
   "outputs": [
    {
     "data": {
      "text/html": [
       "<div>\n",
       "<style scoped>\n",
       "    .dataframe tbody tr th:only-of-type {\n",
       "        vertical-align: middle;\n",
       "    }\n",
       "\n",
       "    .dataframe tbody tr th {\n",
       "        vertical-align: top;\n",
       "    }\n",
       "\n",
       "    .dataframe thead th {\n",
       "        text-align: right;\n",
       "    }\n",
       "</style>\n",
       "<table border=\"1\" class=\"dataframe\">\n",
       "  <thead>\n",
       "    <tr style=\"text-align: right;\">\n",
       "      <th></th>\n",
       "      <th>Id</th>\n",
       "      <th>MSSubClass</th>\n",
       "      <th>MSZoning</th>\n",
       "      <th>LotFrontage</th>\n",
       "      <th>LotArea</th>\n",
       "      <th>Street</th>\n",
       "      <th>Alley</th>\n",
       "      <th>LotShape</th>\n",
       "      <th>LandContour</th>\n",
       "      <th>Utilities</th>\n",
       "      <th>...</th>\n",
       "      <th>PoolArea</th>\n",
       "      <th>PoolQC</th>\n",
       "      <th>Fence</th>\n",
       "      <th>MiscFeature</th>\n",
       "      <th>MiscVal</th>\n",
       "      <th>MoSold</th>\n",
       "      <th>YrSold</th>\n",
       "      <th>SaleType</th>\n",
       "      <th>SaleCondition</th>\n",
       "      <th>SalePrice</th>\n",
       "    </tr>\n",
       "  </thead>\n",
       "  <tbody>\n",
       "    <tr>\n",
       "      <th>0</th>\n",
       "      <td>1</td>\n",
       "      <td>60</td>\n",
       "      <td>RL</td>\n",
       "      <td>65.0</td>\n",
       "      <td>8450</td>\n",
       "      <td>Pave</td>\n",
       "      <td>NaN</td>\n",
       "      <td>Reg</td>\n",
       "      <td>Lvl</td>\n",
       "      <td>AllPub</td>\n",
       "      <td>...</td>\n",
       "      <td>0</td>\n",
       "      <td>NaN</td>\n",
       "      <td>NaN</td>\n",
       "      <td>NaN</td>\n",
       "      <td>0</td>\n",
       "      <td>2</td>\n",
       "      <td>2008</td>\n",
       "      <td>WD</td>\n",
       "      <td>Normal</td>\n",
       "      <td>208500</td>\n",
       "    </tr>\n",
       "    <tr>\n",
       "      <th>1</th>\n",
       "      <td>2</td>\n",
       "      <td>20</td>\n",
       "      <td>RL</td>\n",
       "      <td>80.0</td>\n",
       "      <td>9600</td>\n",
       "      <td>Pave</td>\n",
       "      <td>NaN</td>\n",
       "      <td>Reg</td>\n",
       "      <td>Lvl</td>\n",
       "      <td>AllPub</td>\n",
       "      <td>...</td>\n",
       "      <td>0</td>\n",
       "      <td>NaN</td>\n",
       "      <td>NaN</td>\n",
       "      <td>NaN</td>\n",
       "      <td>0</td>\n",
       "      <td>5</td>\n",
       "      <td>2007</td>\n",
       "      <td>WD</td>\n",
       "      <td>Normal</td>\n",
       "      <td>181500</td>\n",
       "    </tr>\n",
       "    <tr>\n",
       "      <th>2</th>\n",
       "      <td>3</td>\n",
       "      <td>60</td>\n",
       "      <td>RL</td>\n",
       "      <td>68.0</td>\n",
       "      <td>11250</td>\n",
       "      <td>Pave</td>\n",
       "      <td>NaN</td>\n",
       "      <td>IR1</td>\n",
       "      <td>Lvl</td>\n",
       "      <td>AllPub</td>\n",
       "      <td>...</td>\n",
       "      <td>0</td>\n",
       "      <td>NaN</td>\n",
       "      <td>NaN</td>\n",
       "      <td>NaN</td>\n",
       "      <td>0</td>\n",
       "      <td>9</td>\n",
       "      <td>2008</td>\n",
       "      <td>WD</td>\n",
       "      <td>Normal</td>\n",
       "      <td>223500</td>\n",
       "    </tr>\n",
       "    <tr>\n",
       "      <th>3</th>\n",
       "      <td>4</td>\n",
       "      <td>70</td>\n",
       "      <td>RL</td>\n",
       "      <td>60.0</td>\n",
       "      <td>9550</td>\n",
       "      <td>Pave</td>\n",
       "      <td>NaN</td>\n",
       "      <td>IR1</td>\n",
       "      <td>Lvl</td>\n",
       "      <td>AllPub</td>\n",
       "      <td>...</td>\n",
       "      <td>0</td>\n",
       "      <td>NaN</td>\n",
       "      <td>NaN</td>\n",
       "      <td>NaN</td>\n",
       "      <td>0</td>\n",
       "      <td>2</td>\n",
       "      <td>2006</td>\n",
       "      <td>WD</td>\n",
       "      <td>Abnorml</td>\n",
       "      <td>140000</td>\n",
       "    </tr>\n",
       "    <tr>\n",
       "      <th>4</th>\n",
       "      <td>5</td>\n",
       "      <td>60</td>\n",
       "      <td>RL</td>\n",
       "      <td>84.0</td>\n",
       "      <td>14260</td>\n",
       "      <td>Pave</td>\n",
       "      <td>NaN</td>\n",
       "      <td>IR1</td>\n",
       "      <td>Lvl</td>\n",
       "      <td>AllPub</td>\n",
       "      <td>...</td>\n",
       "      <td>0</td>\n",
       "      <td>NaN</td>\n",
       "      <td>NaN</td>\n",
       "      <td>NaN</td>\n",
       "      <td>0</td>\n",
       "      <td>12</td>\n",
       "      <td>2008</td>\n",
       "      <td>WD</td>\n",
       "      <td>Normal</td>\n",
       "      <td>250000</td>\n",
       "    </tr>\n",
       "    <tr>\n",
       "      <th>5</th>\n",
       "      <td>6</td>\n",
       "      <td>50</td>\n",
       "      <td>RL</td>\n",
       "      <td>85.0</td>\n",
       "      <td>14115</td>\n",
       "      <td>Pave</td>\n",
       "      <td>NaN</td>\n",
       "      <td>IR1</td>\n",
       "      <td>Lvl</td>\n",
       "      <td>AllPub</td>\n",
       "      <td>...</td>\n",
       "      <td>0</td>\n",
       "      <td>NaN</td>\n",
       "      <td>MnPrv</td>\n",
       "      <td>Shed</td>\n",
       "      <td>700</td>\n",
       "      <td>10</td>\n",
       "      <td>2009</td>\n",
       "      <td>WD</td>\n",
       "      <td>Normal</td>\n",
       "      <td>143000</td>\n",
       "    </tr>\n",
       "    <tr>\n",
       "      <th>6</th>\n",
       "      <td>7</td>\n",
       "      <td>20</td>\n",
       "      <td>RL</td>\n",
       "      <td>75.0</td>\n",
       "      <td>10084</td>\n",
       "      <td>Pave</td>\n",
       "      <td>NaN</td>\n",
       "      <td>Reg</td>\n",
       "      <td>Lvl</td>\n",
       "      <td>AllPub</td>\n",
       "      <td>...</td>\n",
       "      <td>0</td>\n",
       "      <td>NaN</td>\n",
       "      <td>NaN</td>\n",
       "      <td>NaN</td>\n",
       "      <td>0</td>\n",
       "      <td>8</td>\n",
       "      <td>2007</td>\n",
       "      <td>WD</td>\n",
       "      <td>Normal</td>\n",
       "      <td>307000</td>\n",
       "    </tr>\n",
       "    <tr>\n",
       "      <th>7</th>\n",
       "      <td>8</td>\n",
       "      <td>60</td>\n",
       "      <td>RL</td>\n",
       "      <td>NaN</td>\n",
       "      <td>10382</td>\n",
       "      <td>Pave</td>\n",
       "      <td>NaN</td>\n",
       "      <td>IR1</td>\n",
       "      <td>Lvl</td>\n",
       "      <td>AllPub</td>\n",
       "      <td>...</td>\n",
       "      <td>0</td>\n",
       "      <td>NaN</td>\n",
       "      <td>NaN</td>\n",
       "      <td>Shed</td>\n",
       "      <td>350</td>\n",
       "      <td>11</td>\n",
       "      <td>2009</td>\n",
       "      <td>WD</td>\n",
       "      <td>Normal</td>\n",
       "      <td>200000</td>\n",
       "    </tr>\n",
       "    <tr>\n",
       "      <th>8</th>\n",
       "      <td>9</td>\n",
       "      <td>50</td>\n",
       "      <td>RM</td>\n",
       "      <td>51.0</td>\n",
       "      <td>6120</td>\n",
       "      <td>Pave</td>\n",
       "      <td>NaN</td>\n",
       "      <td>Reg</td>\n",
       "      <td>Lvl</td>\n",
       "      <td>AllPub</td>\n",
       "      <td>...</td>\n",
       "      <td>0</td>\n",
       "      <td>NaN</td>\n",
       "      <td>NaN</td>\n",
       "      <td>NaN</td>\n",
       "      <td>0</td>\n",
       "      <td>4</td>\n",
       "      <td>2008</td>\n",
       "      <td>WD</td>\n",
       "      <td>Abnorml</td>\n",
       "      <td>129900</td>\n",
       "    </tr>\n",
       "    <tr>\n",
       "      <th>9</th>\n",
       "      <td>10</td>\n",
       "      <td>190</td>\n",
       "      <td>RL</td>\n",
       "      <td>50.0</td>\n",
       "      <td>7420</td>\n",
       "      <td>Pave</td>\n",
       "      <td>NaN</td>\n",
       "      <td>Reg</td>\n",
       "      <td>Lvl</td>\n",
       "      <td>AllPub</td>\n",
       "      <td>...</td>\n",
       "      <td>0</td>\n",
       "      <td>NaN</td>\n",
       "      <td>NaN</td>\n",
       "      <td>NaN</td>\n",
       "      <td>0</td>\n",
       "      <td>1</td>\n",
       "      <td>2008</td>\n",
       "      <td>WD</td>\n",
       "      <td>Normal</td>\n",
       "      <td>118000</td>\n",
       "    </tr>\n",
       "  </tbody>\n",
       "</table>\n",
       "<p>10 rows × 81 columns</p>\n",
       "</div>"
      ],
      "text/plain": [
       "   Id  MSSubClass MSZoning  LotFrontage  LotArea Street Alley LotShape  \\\n",
       "0   1          60       RL         65.0     8450   Pave   NaN      Reg   \n",
       "1   2          20       RL         80.0     9600   Pave   NaN      Reg   \n",
       "2   3          60       RL         68.0    11250   Pave   NaN      IR1   \n",
       "3   4          70       RL         60.0     9550   Pave   NaN      IR1   \n",
       "4   5          60       RL         84.0    14260   Pave   NaN      IR1   \n",
       "5   6          50       RL         85.0    14115   Pave   NaN      IR1   \n",
       "6   7          20       RL         75.0    10084   Pave   NaN      Reg   \n",
       "7   8          60       RL          NaN    10382   Pave   NaN      IR1   \n",
       "8   9          50       RM         51.0     6120   Pave   NaN      Reg   \n",
       "9  10         190       RL         50.0     7420   Pave   NaN      Reg   \n",
       "\n",
       "  LandContour Utilities  ... PoolArea PoolQC  Fence MiscFeature MiscVal  \\\n",
       "0         Lvl    AllPub  ...        0    NaN    NaN         NaN       0   \n",
       "1         Lvl    AllPub  ...        0    NaN    NaN         NaN       0   \n",
       "2         Lvl    AllPub  ...        0    NaN    NaN         NaN       0   \n",
       "3         Lvl    AllPub  ...        0    NaN    NaN         NaN       0   \n",
       "4         Lvl    AllPub  ...        0    NaN    NaN         NaN       0   \n",
       "5         Lvl    AllPub  ...        0    NaN  MnPrv        Shed     700   \n",
       "6         Lvl    AllPub  ...        0    NaN    NaN         NaN       0   \n",
       "7         Lvl    AllPub  ...        0    NaN    NaN        Shed     350   \n",
       "8         Lvl    AllPub  ...        0    NaN    NaN         NaN       0   \n",
       "9         Lvl    AllPub  ...        0    NaN    NaN         NaN       0   \n",
       "\n",
       "  MoSold YrSold  SaleType  SaleCondition  SalePrice  \n",
       "0      2   2008        WD         Normal     208500  \n",
       "1      5   2007        WD         Normal     181500  \n",
       "2      9   2008        WD         Normal     223500  \n",
       "3      2   2006        WD        Abnorml     140000  \n",
       "4     12   2008        WD         Normal     250000  \n",
       "5     10   2009        WD         Normal     143000  \n",
       "6      8   2007        WD         Normal     307000  \n",
       "7     11   2009        WD         Normal     200000  \n",
       "8      4   2008        WD        Abnorml     129900  \n",
       "9      1   2008        WD         Normal     118000  \n",
       "\n",
       "[10 rows x 81 columns]"
      ]
     },
     "execution_count": 235,
     "metadata": {},
     "output_type": "execute_result"
    }
   ],
   "source": [
    "'''\n",
    "Show the data has been loaded successfully into the data frame \n",
    "by printing the first 10 rows with head().\n",
    "'''\n",
    "df_house.head(10)"
   ]
  },
  {
   "cell_type": "code",
   "execution_count": 236,
   "id": "aaf837f0",
   "metadata": {},
   "outputs": [
    {
     "name": "stdout",
     "output_type": "stream",
     "text": [
      "There are 1460 rows and 81 columns in this data frame.\n"
     ]
    }
   ],
   "source": [
    "'''\n",
    "Understand the shape of the dataframe.\n",
    "'''\n",
    "print('There are {} rows and {} columns in this data frame.'.format(df_house.shape[0], df_house.shape[1]))"
   ]
  },
  {
   "cell_type": "code",
   "execution_count": 237,
   "id": "8348d65a",
   "metadata": {},
   "outputs": [
    {
     "name": "stdout",
     "output_type": "stream",
     "text": [
      "This data frame contains 118260 records.\n"
     ]
    }
   ],
   "source": [
    "'''\n",
    "Display the total size of this data frame.\n",
    "'''\n",
    "print('This data frame contains {} records.'.format(df_house.size))"
   ]
  },
  {
   "cell_type": "code",
   "execution_count": 238,
   "id": "59ebdd62",
   "metadata": {},
   "outputs": [
    {
     "data": {
      "text/plain": [
       "Id                 int64\n",
       "MSSubClass         int64\n",
       "MSZoning          object\n",
       "LotFrontage      float64\n",
       "LotArea            int64\n",
       "                  ...   \n",
       "MoSold             int64\n",
       "YrSold             int64\n",
       "SaleType          object\n",
       "SaleCondition     object\n",
       "SalePrice          int64\n",
       "Length: 81, dtype: object"
      ]
     },
     "execution_count": 238,
     "metadata": {},
     "output_type": "execute_result"
    }
   ],
   "source": [
    "'''\n",
    "Find the type of data within each column initially.\n",
    "'''\n",
    "df_house.dtypes"
   ]
  },
  {
   "cell_type": "code",
   "execution_count": 239,
   "id": "0b8e30fd",
   "metadata": {},
   "outputs": [
    {
     "data": {
      "text/plain": [
       "PoolQC         1453\n",
       "MiscFeature    1406\n",
       "Alley          1369\n",
       "Fence          1179\n",
       "FireplaceQu     690\n",
       "               ... \n",
       "ExterQual         0\n",
       "Exterior2nd       0\n",
       "Exterior1st       0\n",
       "RoofMatl          0\n",
       "SalePrice         0\n",
       "Length: 81, dtype: int64"
      ]
     },
     "execution_count": 239,
     "metadata": {},
     "output_type": "execute_result"
    }
   ],
   "source": [
    "'''\n",
    "Understand if there are any missing values in the data frame.\n",
    "'''\n",
    "df_house.isna().sum().sort_values(ascending = False)"
   ]
  },
  {
   "cell_type": "code",
   "execution_count": 240,
   "id": "a235eb6e",
   "metadata": {},
   "outputs": [
    {
     "data": {
      "text/plain": [
       "6965"
      ]
     },
     "execution_count": 240,
     "metadata": {},
     "output_type": "execute_result"
    }
   ],
   "source": [
    "'''\n",
    "Understand how many missing values are in the dataset initially.\n",
    "'''\n",
    "df_house.isna().sum().sum()"
   ]
  },
  {
   "cell_type": "markdown",
   "id": "cc64c0ec",
   "metadata": {},
   "source": [
    "### Part 1.2 - Drop the \"ID\" column and any features that are missing more than 40% of their values."
   ]
  },
  {
   "cell_type": "code",
   "execution_count": 241,
   "id": "8f304b1d",
   "metadata": {},
   "outputs": [],
   "source": [
    "'''\n",
    "Identify columns that have 40% or more missing values.\n",
    "'''\n",
    "columns = df_house.columns[df_house.isnull().mean()>=.4]"
   ]
  },
  {
   "cell_type": "code",
   "execution_count": 242,
   "id": "e14afeef",
   "metadata": {},
   "outputs": [
    {
     "name": "stdout",
     "output_type": "stream",
     "text": [
      "Index(['Alley', 'FireplaceQu', 'PoolQC', 'Fence', 'MiscFeature'], dtype='object')\n"
     ]
    }
   ],
   "source": [
    "'''\n",
    "Show which columns have 40% or more of their values missing.\n",
    "'''\n",
    "print(columns)"
   ]
  },
  {
   "cell_type": "code",
   "execution_count": 243,
   "id": "5a2bf599",
   "metadata": {},
   "outputs": [],
   "source": [
    "'''\n",
    "Drop the columns that have 40% or more of their values missing.\n",
    "'''\n",
    "df_house.drop(columns, axis =1, inplace = True)"
   ]
  },
  {
   "cell_type": "code",
   "execution_count": 244,
   "id": "292589fa",
   "metadata": {},
   "outputs": [
    {
     "name": "stdout",
     "output_type": "stream",
     "text": [
      "There are 1460 rows and 76 columns in this data frame.\n"
     ]
    }
   ],
   "source": [
    "'''\n",
    "Understand the shape of the dataframe after dropping columns with 40% or more missing values.\n",
    "'''\n",
    "print('There are {} rows and {} columns in this data frame.'.format(df_house.shape[0], df_house.shape[1]))"
   ]
  },
  {
   "cell_type": "code",
   "execution_count": 245,
   "id": "35cde874",
   "metadata": {},
   "outputs": [
    {
     "data": {
      "text/plain": [
       "LotFrontage     259\n",
       "GarageType       81\n",
       "GarageCond       81\n",
       "GarageYrBlt      81\n",
       "GarageFinish     81\n",
       "               ... \n",
       "BsmtUnfSF         0\n",
       "TotalBsmtSF       0\n",
       "MSSubClass        0\n",
       "HeatingQC         0\n",
       "SalePrice         0\n",
       "Length: 76, dtype: int64"
      ]
     },
     "execution_count": 245,
     "metadata": {},
     "output_type": "execute_result"
    }
   ],
   "source": [
    "'''\n",
    "Understand any missing values in the data frame after dropping the colums with 40% or more missing values.\n",
    "'''\n",
    "df_house.isna().sum().sort_values(ascending = False)"
   ]
  },
  {
   "cell_type": "code",
   "execution_count": 246,
   "id": "546b61f6",
   "metadata": {},
   "outputs": [
    {
     "data": {
      "text/plain": [
       "868"
      ]
     },
     "execution_count": 246,
     "metadata": {},
     "output_type": "execute_result"
    }
   ],
   "source": [
    "'''\n",
    "Understand how many missing values are in the dataset after dropping rows with 40% or more missing values.\n",
    "'''\n",
    "df_house.isna().sum().sum()"
   ]
  },
  {
   "cell_type": "markdown",
   "id": "09cb7a45",
   "metadata": {},
   "source": [
    "### Part 1.3 - For numerical columns, fill in any missing data with the median value."
   ]
  },
  {
   "cell_type": "code",
   "execution_count": 247,
   "id": "0a81eba1",
   "metadata": {},
   "outputs": [
    {
     "name": "stdout",
     "output_type": "stream",
     "text": [
      "['Id', 'MSSubClass', 'LotFrontage', 'LotArea', 'OverallQual', 'OverallCond', 'YearBuilt', 'YearRemodAdd', 'MasVnrArea', 'BsmtFinSF1', 'BsmtFinSF2', 'BsmtUnfSF', 'TotalBsmtSF', '1stFlrSF', '2ndFlrSF', 'LowQualFinSF', 'GrLivArea', 'BsmtFullBath', 'BsmtHalfBath', 'FullBath', 'HalfBath', 'BedroomAbvGr', 'KitchenAbvGr', 'TotRmsAbvGrd', 'Fireplaces', 'GarageYrBlt', 'GarageCars', 'GarageArea', 'WoodDeckSF', 'OpenPorchSF', 'EnclosedPorch', '3SsnPorch', 'ScreenPorch', 'PoolArea', 'MiscVal', 'MoSold', 'YrSold', 'SalePrice']\n"
     ]
    }
   ],
   "source": [
    "'''\n",
    "Identify the numerical columns in the dataframe.\n",
    "'''\n",
    "numeric_columns = df_house.select_dtypes(include=np.number).columns.tolist()\n",
    "print(numeric_columns)"
   ]
  },
  {
   "cell_type": "code",
   "execution_count": 248,
   "id": "94fd8567",
   "metadata": {},
   "outputs": [],
   "source": [
    "'''\n",
    "Fill all the missing values with the median value for each numeric column.\n",
    "'''\n",
    "df_house[numeric_columns] = df_house[numeric_columns].fillna(df_house[numeric_columns].median())"
   ]
  },
  {
   "cell_type": "code",
   "execution_count": 249,
   "id": "80f98952",
   "metadata": {},
   "outputs": [
    {
     "data": {
      "text/html": [
       "<div>\n",
       "<style scoped>\n",
       "    .dataframe tbody tr th:only-of-type {\n",
       "        vertical-align: middle;\n",
       "    }\n",
       "\n",
       "    .dataframe tbody tr th {\n",
       "        vertical-align: top;\n",
       "    }\n",
       "\n",
       "    .dataframe thead th {\n",
       "        text-align: right;\n",
       "    }\n",
       "</style>\n",
       "<table border=\"1\" class=\"dataframe\">\n",
       "  <thead>\n",
       "    <tr style=\"text-align: right;\">\n",
       "      <th></th>\n",
       "      <th>Id</th>\n",
       "      <th>MSSubClass</th>\n",
       "      <th>MSZoning</th>\n",
       "      <th>LotFrontage</th>\n",
       "      <th>LotArea</th>\n",
       "      <th>Street</th>\n",
       "      <th>LotShape</th>\n",
       "      <th>LandContour</th>\n",
       "      <th>Utilities</th>\n",
       "      <th>LotConfig</th>\n",
       "      <th>...</th>\n",
       "      <th>EnclosedPorch</th>\n",
       "      <th>3SsnPorch</th>\n",
       "      <th>ScreenPorch</th>\n",
       "      <th>PoolArea</th>\n",
       "      <th>MiscVal</th>\n",
       "      <th>MoSold</th>\n",
       "      <th>YrSold</th>\n",
       "      <th>SaleType</th>\n",
       "      <th>SaleCondition</th>\n",
       "      <th>SalePrice</th>\n",
       "    </tr>\n",
       "  </thead>\n",
       "  <tbody>\n",
       "    <tr>\n",
       "      <th>0</th>\n",
       "      <td>1</td>\n",
       "      <td>60</td>\n",
       "      <td>RL</td>\n",
       "      <td>65.0</td>\n",
       "      <td>8450</td>\n",
       "      <td>Pave</td>\n",
       "      <td>Reg</td>\n",
       "      <td>Lvl</td>\n",
       "      <td>AllPub</td>\n",
       "      <td>Inside</td>\n",
       "      <td>...</td>\n",
       "      <td>0</td>\n",
       "      <td>0</td>\n",
       "      <td>0</td>\n",
       "      <td>0</td>\n",
       "      <td>0</td>\n",
       "      <td>2</td>\n",
       "      <td>2008</td>\n",
       "      <td>WD</td>\n",
       "      <td>Normal</td>\n",
       "      <td>208500</td>\n",
       "    </tr>\n",
       "    <tr>\n",
       "      <th>1</th>\n",
       "      <td>2</td>\n",
       "      <td>20</td>\n",
       "      <td>RL</td>\n",
       "      <td>80.0</td>\n",
       "      <td>9600</td>\n",
       "      <td>Pave</td>\n",
       "      <td>Reg</td>\n",
       "      <td>Lvl</td>\n",
       "      <td>AllPub</td>\n",
       "      <td>FR2</td>\n",
       "      <td>...</td>\n",
       "      <td>0</td>\n",
       "      <td>0</td>\n",
       "      <td>0</td>\n",
       "      <td>0</td>\n",
       "      <td>0</td>\n",
       "      <td>5</td>\n",
       "      <td>2007</td>\n",
       "      <td>WD</td>\n",
       "      <td>Normal</td>\n",
       "      <td>181500</td>\n",
       "    </tr>\n",
       "    <tr>\n",
       "      <th>2</th>\n",
       "      <td>3</td>\n",
       "      <td>60</td>\n",
       "      <td>RL</td>\n",
       "      <td>68.0</td>\n",
       "      <td>11250</td>\n",
       "      <td>Pave</td>\n",
       "      <td>IR1</td>\n",
       "      <td>Lvl</td>\n",
       "      <td>AllPub</td>\n",
       "      <td>Inside</td>\n",
       "      <td>...</td>\n",
       "      <td>0</td>\n",
       "      <td>0</td>\n",
       "      <td>0</td>\n",
       "      <td>0</td>\n",
       "      <td>0</td>\n",
       "      <td>9</td>\n",
       "      <td>2008</td>\n",
       "      <td>WD</td>\n",
       "      <td>Normal</td>\n",
       "      <td>223500</td>\n",
       "    </tr>\n",
       "    <tr>\n",
       "      <th>3</th>\n",
       "      <td>4</td>\n",
       "      <td>70</td>\n",
       "      <td>RL</td>\n",
       "      <td>60.0</td>\n",
       "      <td>9550</td>\n",
       "      <td>Pave</td>\n",
       "      <td>IR1</td>\n",
       "      <td>Lvl</td>\n",
       "      <td>AllPub</td>\n",
       "      <td>Corner</td>\n",
       "      <td>...</td>\n",
       "      <td>272</td>\n",
       "      <td>0</td>\n",
       "      <td>0</td>\n",
       "      <td>0</td>\n",
       "      <td>0</td>\n",
       "      <td>2</td>\n",
       "      <td>2006</td>\n",
       "      <td>WD</td>\n",
       "      <td>Abnorml</td>\n",
       "      <td>140000</td>\n",
       "    </tr>\n",
       "    <tr>\n",
       "      <th>4</th>\n",
       "      <td>5</td>\n",
       "      <td>60</td>\n",
       "      <td>RL</td>\n",
       "      <td>84.0</td>\n",
       "      <td>14260</td>\n",
       "      <td>Pave</td>\n",
       "      <td>IR1</td>\n",
       "      <td>Lvl</td>\n",
       "      <td>AllPub</td>\n",
       "      <td>FR2</td>\n",
       "      <td>...</td>\n",
       "      <td>0</td>\n",
       "      <td>0</td>\n",
       "      <td>0</td>\n",
       "      <td>0</td>\n",
       "      <td>0</td>\n",
       "      <td>12</td>\n",
       "      <td>2008</td>\n",
       "      <td>WD</td>\n",
       "      <td>Normal</td>\n",
       "      <td>250000</td>\n",
       "    </tr>\n",
       "    <tr>\n",
       "      <th>5</th>\n",
       "      <td>6</td>\n",
       "      <td>50</td>\n",
       "      <td>RL</td>\n",
       "      <td>85.0</td>\n",
       "      <td>14115</td>\n",
       "      <td>Pave</td>\n",
       "      <td>IR1</td>\n",
       "      <td>Lvl</td>\n",
       "      <td>AllPub</td>\n",
       "      <td>Inside</td>\n",
       "      <td>...</td>\n",
       "      <td>0</td>\n",
       "      <td>320</td>\n",
       "      <td>0</td>\n",
       "      <td>0</td>\n",
       "      <td>700</td>\n",
       "      <td>10</td>\n",
       "      <td>2009</td>\n",
       "      <td>WD</td>\n",
       "      <td>Normal</td>\n",
       "      <td>143000</td>\n",
       "    </tr>\n",
       "    <tr>\n",
       "      <th>6</th>\n",
       "      <td>7</td>\n",
       "      <td>20</td>\n",
       "      <td>RL</td>\n",
       "      <td>75.0</td>\n",
       "      <td>10084</td>\n",
       "      <td>Pave</td>\n",
       "      <td>Reg</td>\n",
       "      <td>Lvl</td>\n",
       "      <td>AllPub</td>\n",
       "      <td>Inside</td>\n",
       "      <td>...</td>\n",
       "      <td>0</td>\n",
       "      <td>0</td>\n",
       "      <td>0</td>\n",
       "      <td>0</td>\n",
       "      <td>0</td>\n",
       "      <td>8</td>\n",
       "      <td>2007</td>\n",
       "      <td>WD</td>\n",
       "      <td>Normal</td>\n",
       "      <td>307000</td>\n",
       "    </tr>\n",
       "    <tr>\n",
       "      <th>7</th>\n",
       "      <td>8</td>\n",
       "      <td>60</td>\n",
       "      <td>RL</td>\n",
       "      <td>69.0</td>\n",
       "      <td>10382</td>\n",
       "      <td>Pave</td>\n",
       "      <td>IR1</td>\n",
       "      <td>Lvl</td>\n",
       "      <td>AllPub</td>\n",
       "      <td>Corner</td>\n",
       "      <td>...</td>\n",
       "      <td>228</td>\n",
       "      <td>0</td>\n",
       "      <td>0</td>\n",
       "      <td>0</td>\n",
       "      <td>350</td>\n",
       "      <td>11</td>\n",
       "      <td>2009</td>\n",
       "      <td>WD</td>\n",
       "      <td>Normal</td>\n",
       "      <td>200000</td>\n",
       "    </tr>\n",
       "    <tr>\n",
       "      <th>8</th>\n",
       "      <td>9</td>\n",
       "      <td>50</td>\n",
       "      <td>RM</td>\n",
       "      <td>51.0</td>\n",
       "      <td>6120</td>\n",
       "      <td>Pave</td>\n",
       "      <td>Reg</td>\n",
       "      <td>Lvl</td>\n",
       "      <td>AllPub</td>\n",
       "      <td>Inside</td>\n",
       "      <td>...</td>\n",
       "      <td>205</td>\n",
       "      <td>0</td>\n",
       "      <td>0</td>\n",
       "      <td>0</td>\n",
       "      <td>0</td>\n",
       "      <td>4</td>\n",
       "      <td>2008</td>\n",
       "      <td>WD</td>\n",
       "      <td>Abnorml</td>\n",
       "      <td>129900</td>\n",
       "    </tr>\n",
       "    <tr>\n",
       "      <th>9</th>\n",
       "      <td>10</td>\n",
       "      <td>190</td>\n",
       "      <td>RL</td>\n",
       "      <td>50.0</td>\n",
       "      <td>7420</td>\n",
       "      <td>Pave</td>\n",
       "      <td>Reg</td>\n",
       "      <td>Lvl</td>\n",
       "      <td>AllPub</td>\n",
       "      <td>Corner</td>\n",
       "      <td>...</td>\n",
       "      <td>0</td>\n",
       "      <td>0</td>\n",
       "      <td>0</td>\n",
       "      <td>0</td>\n",
       "      <td>0</td>\n",
       "      <td>1</td>\n",
       "      <td>2008</td>\n",
       "      <td>WD</td>\n",
       "      <td>Normal</td>\n",
       "      <td>118000</td>\n",
       "    </tr>\n",
       "  </tbody>\n",
       "</table>\n",
       "<p>10 rows × 76 columns</p>\n",
       "</div>"
      ],
      "text/plain": [
       "   Id  MSSubClass MSZoning  LotFrontage  LotArea Street LotShape LandContour  \\\n",
       "0   1          60       RL         65.0     8450   Pave      Reg         Lvl   \n",
       "1   2          20       RL         80.0     9600   Pave      Reg         Lvl   \n",
       "2   3          60       RL         68.0    11250   Pave      IR1         Lvl   \n",
       "3   4          70       RL         60.0     9550   Pave      IR1         Lvl   \n",
       "4   5          60       RL         84.0    14260   Pave      IR1         Lvl   \n",
       "5   6          50       RL         85.0    14115   Pave      IR1         Lvl   \n",
       "6   7          20       RL         75.0    10084   Pave      Reg         Lvl   \n",
       "7   8          60       RL         69.0    10382   Pave      IR1         Lvl   \n",
       "8   9          50       RM         51.0     6120   Pave      Reg         Lvl   \n",
       "9  10         190       RL         50.0     7420   Pave      Reg         Lvl   \n",
       "\n",
       "  Utilities LotConfig  ... EnclosedPorch 3SsnPorch ScreenPorch PoolArea  \\\n",
       "0    AllPub    Inside  ...             0         0           0        0   \n",
       "1    AllPub       FR2  ...             0         0           0        0   \n",
       "2    AllPub    Inside  ...             0         0           0        0   \n",
       "3    AllPub    Corner  ...           272         0           0        0   \n",
       "4    AllPub       FR2  ...             0         0           0        0   \n",
       "5    AllPub    Inside  ...             0       320           0        0   \n",
       "6    AllPub    Inside  ...             0         0           0        0   \n",
       "7    AllPub    Corner  ...           228         0           0        0   \n",
       "8    AllPub    Inside  ...           205         0           0        0   \n",
       "9    AllPub    Corner  ...             0         0           0        0   \n",
       "\n",
       "  MiscVal MoSold  YrSold  SaleType  SaleCondition  SalePrice  \n",
       "0       0      2    2008        WD         Normal     208500  \n",
       "1       0      5    2007        WD         Normal     181500  \n",
       "2       0      9    2008        WD         Normal     223500  \n",
       "3       0      2    2006        WD        Abnorml     140000  \n",
       "4       0     12    2008        WD         Normal     250000  \n",
       "5     700     10    2009        WD         Normal     143000  \n",
       "6       0      8    2007        WD         Normal     307000  \n",
       "7     350     11    2009        WD         Normal     200000  \n",
       "8       0      4    2008        WD        Abnorml     129900  \n",
       "9       0      1    2008        WD         Normal     118000  \n",
       "\n",
       "[10 rows x 76 columns]"
      ]
     },
     "execution_count": 249,
     "metadata": {},
     "output_type": "execute_result"
    }
   ],
   "source": [
    "'''\n",
    "Show the first 10 rows of the dataframe. Verify LotFrontage Column (row index 7) was filled with \n",
    "median value for column which is 69.0. Provides confidence that the other columns were filled with\n",
    "respective median values as well.\n",
    "'''\n",
    "df_house.head(10)"
   ]
  },
  {
   "cell_type": "code",
   "execution_count": 250,
   "id": "fb338d34",
   "metadata": {},
   "outputs": [
    {
     "data": {
      "text/plain": [
       "520"
      ]
     },
     "execution_count": 250,
     "metadata": {},
     "output_type": "execute_result"
    }
   ],
   "source": [
    "'''\n",
    "Understand how many remaining missing values exist after filling numerical columns with median values.\n",
    "'''\n",
    "df_house.isna().sum().sum()"
   ]
  },
  {
   "cell_type": "markdown",
   "id": "5c6e6b0b",
   "metadata": {},
   "source": [
    "### Part 1.4 - For categorical columns, fill in any missing data with the most common value (mode)."
   ]
  },
  {
   "cell_type": "code",
   "execution_count": 251,
   "id": "7eb78301",
   "metadata": {
    "scrolled": true
   },
   "outputs": [
    {
     "name": "stdout",
     "output_type": "stream",
     "text": [
      "['MSZoning', 'Street', 'LotShape', 'LandContour', 'Utilities', 'LotConfig', 'LandSlope', 'Neighborhood', 'Condition1', 'Condition2', 'BldgType', 'HouseStyle', 'RoofStyle', 'RoofMatl', 'Exterior1st', 'Exterior2nd', 'MasVnrType', 'ExterQual', 'ExterCond', 'Foundation', 'BsmtQual', 'BsmtCond', 'BsmtExposure', 'BsmtFinType1', 'BsmtFinType2', 'Heating', 'HeatingQC', 'CentralAir', 'Electrical', 'KitchenQual', 'Functional', 'GarageType', 'GarageFinish', 'GarageQual', 'GarageCond', 'PavedDrive', 'SaleType', 'SaleCondition']\n"
     ]
    }
   ],
   "source": [
    "'''\n",
    "Identify all the categorical columns in the dataframe.  \n",
    "'''\n",
    "category_columns = df_house.select_dtypes(include = 'object').columns.tolist()\n",
    "print(category_columns)"
   ]
  },
  {
   "cell_type": "code",
   "execution_count": 252,
   "id": "bddba613",
   "metadata": {},
   "outputs": [],
   "source": [
    "'''\n",
    "Fill all the missing values with the mode value for each categorical column.\n",
    "'''\n",
    "df_house[category_columns] = df_house[category_columns].apply(lambda x: x.fillna(x.value_counts().index[0]))"
   ]
  },
  {
   "cell_type": "code",
   "execution_count": 253,
   "id": "50fda634",
   "metadata": {},
   "outputs": [
    {
     "data": {
      "text/plain": [
       "0"
      ]
     },
     "execution_count": 253,
     "metadata": {},
     "output_type": "execute_result"
    }
   ],
   "source": [
    "'''\n",
    "Understand how many missing values are in the dataset after filling in the categorical\n",
    "columns with the mode for each respective column. Result should show 0 missing values.\n",
    "'''\n",
    "df_house.isna().sum().sum()"
   ]
  },
  {
   "cell_type": "code",
   "execution_count": 254,
   "id": "7a01a21f",
   "metadata": {},
   "outputs": [
    {
     "data": {
      "text/html": [
       "<div>\n",
       "<style scoped>\n",
       "    .dataframe tbody tr th:only-of-type {\n",
       "        vertical-align: middle;\n",
       "    }\n",
       "\n",
       "    .dataframe tbody tr th {\n",
       "        vertical-align: top;\n",
       "    }\n",
       "\n",
       "    .dataframe thead th {\n",
       "        text-align: right;\n",
       "    }\n",
       "</style>\n",
       "<table border=\"1\" class=\"dataframe\">\n",
       "  <thead>\n",
       "    <tr style=\"text-align: right;\">\n",
       "      <th></th>\n",
       "      <th>Id</th>\n",
       "      <th>MSSubClass</th>\n",
       "      <th>MSZoning</th>\n",
       "      <th>LotFrontage</th>\n",
       "      <th>LotArea</th>\n",
       "      <th>Street</th>\n",
       "      <th>LotShape</th>\n",
       "      <th>LandContour</th>\n",
       "      <th>Utilities</th>\n",
       "      <th>LotConfig</th>\n",
       "      <th>...</th>\n",
       "      <th>EnclosedPorch</th>\n",
       "      <th>3SsnPorch</th>\n",
       "      <th>ScreenPorch</th>\n",
       "      <th>PoolArea</th>\n",
       "      <th>MiscVal</th>\n",
       "      <th>MoSold</th>\n",
       "      <th>YrSold</th>\n",
       "      <th>SaleType</th>\n",
       "      <th>SaleCondition</th>\n",
       "      <th>SalePrice</th>\n",
       "    </tr>\n",
       "  </thead>\n",
       "  <tbody>\n",
       "    <tr>\n",
       "      <th>0</th>\n",
       "      <td>1</td>\n",
       "      <td>60</td>\n",
       "      <td>RL</td>\n",
       "      <td>65.0</td>\n",
       "      <td>8450</td>\n",
       "      <td>Pave</td>\n",
       "      <td>Reg</td>\n",
       "      <td>Lvl</td>\n",
       "      <td>AllPub</td>\n",
       "      <td>Inside</td>\n",
       "      <td>...</td>\n",
       "      <td>0</td>\n",
       "      <td>0</td>\n",
       "      <td>0</td>\n",
       "      <td>0</td>\n",
       "      <td>0</td>\n",
       "      <td>2</td>\n",
       "      <td>2008</td>\n",
       "      <td>WD</td>\n",
       "      <td>Normal</td>\n",
       "      <td>208500</td>\n",
       "    </tr>\n",
       "    <tr>\n",
       "      <th>1</th>\n",
       "      <td>2</td>\n",
       "      <td>20</td>\n",
       "      <td>RL</td>\n",
       "      <td>80.0</td>\n",
       "      <td>9600</td>\n",
       "      <td>Pave</td>\n",
       "      <td>Reg</td>\n",
       "      <td>Lvl</td>\n",
       "      <td>AllPub</td>\n",
       "      <td>FR2</td>\n",
       "      <td>...</td>\n",
       "      <td>0</td>\n",
       "      <td>0</td>\n",
       "      <td>0</td>\n",
       "      <td>0</td>\n",
       "      <td>0</td>\n",
       "      <td>5</td>\n",
       "      <td>2007</td>\n",
       "      <td>WD</td>\n",
       "      <td>Normal</td>\n",
       "      <td>181500</td>\n",
       "    </tr>\n",
       "    <tr>\n",
       "      <th>2</th>\n",
       "      <td>3</td>\n",
       "      <td>60</td>\n",
       "      <td>RL</td>\n",
       "      <td>68.0</td>\n",
       "      <td>11250</td>\n",
       "      <td>Pave</td>\n",
       "      <td>IR1</td>\n",
       "      <td>Lvl</td>\n",
       "      <td>AllPub</td>\n",
       "      <td>Inside</td>\n",
       "      <td>...</td>\n",
       "      <td>0</td>\n",
       "      <td>0</td>\n",
       "      <td>0</td>\n",
       "      <td>0</td>\n",
       "      <td>0</td>\n",
       "      <td>9</td>\n",
       "      <td>2008</td>\n",
       "      <td>WD</td>\n",
       "      <td>Normal</td>\n",
       "      <td>223500</td>\n",
       "    </tr>\n",
       "    <tr>\n",
       "      <th>3</th>\n",
       "      <td>4</td>\n",
       "      <td>70</td>\n",
       "      <td>RL</td>\n",
       "      <td>60.0</td>\n",
       "      <td>9550</td>\n",
       "      <td>Pave</td>\n",
       "      <td>IR1</td>\n",
       "      <td>Lvl</td>\n",
       "      <td>AllPub</td>\n",
       "      <td>Corner</td>\n",
       "      <td>...</td>\n",
       "      <td>272</td>\n",
       "      <td>0</td>\n",
       "      <td>0</td>\n",
       "      <td>0</td>\n",
       "      <td>0</td>\n",
       "      <td>2</td>\n",
       "      <td>2006</td>\n",
       "      <td>WD</td>\n",
       "      <td>Abnorml</td>\n",
       "      <td>140000</td>\n",
       "    </tr>\n",
       "    <tr>\n",
       "      <th>4</th>\n",
       "      <td>5</td>\n",
       "      <td>60</td>\n",
       "      <td>RL</td>\n",
       "      <td>84.0</td>\n",
       "      <td>14260</td>\n",
       "      <td>Pave</td>\n",
       "      <td>IR1</td>\n",
       "      <td>Lvl</td>\n",
       "      <td>AllPub</td>\n",
       "      <td>FR2</td>\n",
       "      <td>...</td>\n",
       "      <td>0</td>\n",
       "      <td>0</td>\n",
       "      <td>0</td>\n",
       "      <td>0</td>\n",
       "      <td>0</td>\n",
       "      <td>12</td>\n",
       "      <td>2008</td>\n",
       "      <td>WD</td>\n",
       "      <td>Normal</td>\n",
       "      <td>250000</td>\n",
       "    </tr>\n",
       "    <tr>\n",
       "      <th>5</th>\n",
       "      <td>6</td>\n",
       "      <td>50</td>\n",
       "      <td>RL</td>\n",
       "      <td>85.0</td>\n",
       "      <td>14115</td>\n",
       "      <td>Pave</td>\n",
       "      <td>IR1</td>\n",
       "      <td>Lvl</td>\n",
       "      <td>AllPub</td>\n",
       "      <td>Inside</td>\n",
       "      <td>...</td>\n",
       "      <td>0</td>\n",
       "      <td>320</td>\n",
       "      <td>0</td>\n",
       "      <td>0</td>\n",
       "      <td>700</td>\n",
       "      <td>10</td>\n",
       "      <td>2009</td>\n",
       "      <td>WD</td>\n",
       "      <td>Normal</td>\n",
       "      <td>143000</td>\n",
       "    </tr>\n",
       "    <tr>\n",
       "      <th>6</th>\n",
       "      <td>7</td>\n",
       "      <td>20</td>\n",
       "      <td>RL</td>\n",
       "      <td>75.0</td>\n",
       "      <td>10084</td>\n",
       "      <td>Pave</td>\n",
       "      <td>Reg</td>\n",
       "      <td>Lvl</td>\n",
       "      <td>AllPub</td>\n",
       "      <td>Inside</td>\n",
       "      <td>...</td>\n",
       "      <td>0</td>\n",
       "      <td>0</td>\n",
       "      <td>0</td>\n",
       "      <td>0</td>\n",
       "      <td>0</td>\n",
       "      <td>8</td>\n",
       "      <td>2007</td>\n",
       "      <td>WD</td>\n",
       "      <td>Normal</td>\n",
       "      <td>307000</td>\n",
       "    </tr>\n",
       "    <tr>\n",
       "      <th>7</th>\n",
       "      <td>8</td>\n",
       "      <td>60</td>\n",
       "      <td>RL</td>\n",
       "      <td>69.0</td>\n",
       "      <td>10382</td>\n",
       "      <td>Pave</td>\n",
       "      <td>IR1</td>\n",
       "      <td>Lvl</td>\n",
       "      <td>AllPub</td>\n",
       "      <td>Corner</td>\n",
       "      <td>...</td>\n",
       "      <td>228</td>\n",
       "      <td>0</td>\n",
       "      <td>0</td>\n",
       "      <td>0</td>\n",
       "      <td>350</td>\n",
       "      <td>11</td>\n",
       "      <td>2009</td>\n",
       "      <td>WD</td>\n",
       "      <td>Normal</td>\n",
       "      <td>200000</td>\n",
       "    </tr>\n",
       "    <tr>\n",
       "      <th>8</th>\n",
       "      <td>9</td>\n",
       "      <td>50</td>\n",
       "      <td>RM</td>\n",
       "      <td>51.0</td>\n",
       "      <td>6120</td>\n",
       "      <td>Pave</td>\n",
       "      <td>Reg</td>\n",
       "      <td>Lvl</td>\n",
       "      <td>AllPub</td>\n",
       "      <td>Inside</td>\n",
       "      <td>...</td>\n",
       "      <td>205</td>\n",
       "      <td>0</td>\n",
       "      <td>0</td>\n",
       "      <td>0</td>\n",
       "      <td>0</td>\n",
       "      <td>4</td>\n",
       "      <td>2008</td>\n",
       "      <td>WD</td>\n",
       "      <td>Abnorml</td>\n",
       "      <td>129900</td>\n",
       "    </tr>\n",
       "    <tr>\n",
       "      <th>9</th>\n",
       "      <td>10</td>\n",
       "      <td>190</td>\n",
       "      <td>RL</td>\n",
       "      <td>50.0</td>\n",
       "      <td>7420</td>\n",
       "      <td>Pave</td>\n",
       "      <td>Reg</td>\n",
       "      <td>Lvl</td>\n",
       "      <td>AllPub</td>\n",
       "      <td>Corner</td>\n",
       "      <td>...</td>\n",
       "      <td>0</td>\n",
       "      <td>0</td>\n",
       "      <td>0</td>\n",
       "      <td>0</td>\n",
       "      <td>0</td>\n",
       "      <td>1</td>\n",
       "      <td>2008</td>\n",
       "      <td>WD</td>\n",
       "      <td>Normal</td>\n",
       "      <td>118000</td>\n",
       "    </tr>\n",
       "  </tbody>\n",
       "</table>\n",
       "<p>10 rows × 76 columns</p>\n",
       "</div>"
      ],
      "text/plain": [
       "   Id  MSSubClass MSZoning  LotFrontage  LotArea Street LotShape LandContour  \\\n",
       "0   1          60       RL         65.0     8450   Pave      Reg         Lvl   \n",
       "1   2          20       RL         80.0     9600   Pave      Reg         Lvl   \n",
       "2   3          60       RL         68.0    11250   Pave      IR1         Lvl   \n",
       "3   4          70       RL         60.0     9550   Pave      IR1         Lvl   \n",
       "4   5          60       RL         84.0    14260   Pave      IR1         Lvl   \n",
       "5   6          50       RL         85.0    14115   Pave      IR1         Lvl   \n",
       "6   7          20       RL         75.0    10084   Pave      Reg         Lvl   \n",
       "7   8          60       RL         69.0    10382   Pave      IR1         Lvl   \n",
       "8   9          50       RM         51.0     6120   Pave      Reg         Lvl   \n",
       "9  10         190       RL         50.0     7420   Pave      Reg         Lvl   \n",
       "\n",
       "  Utilities LotConfig  ... EnclosedPorch 3SsnPorch ScreenPorch PoolArea  \\\n",
       "0    AllPub    Inside  ...             0         0           0        0   \n",
       "1    AllPub       FR2  ...             0         0           0        0   \n",
       "2    AllPub    Inside  ...             0         0           0        0   \n",
       "3    AllPub    Corner  ...           272         0           0        0   \n",
       "4    AllPub       FR2  ...             0         0           0        0   \n",
       "5    AllPub    Inside  ...             0       320           0        0   \n",
       "6    AllPub    Inside  ...             0         0           0        0   \n",
       "7    AllPub    Corner  ...           228         0           0        0   \n",
       "8    AllPub    Inside  ...           205         0           0        0   \n",
       "9    AllPub    Corner  ...             0         0           0        0   \n",
       "\n",
       "  MiscVal MoSold  YrSold  SaleType  SaleCondition  SalePrice  \n",
       "0       0      2    2008        WD         Normal     208500  \n",
       "1       0      5    2007        WD         Normal     181500  \n",
       "2       0      9    2008        WD         Normal     223500  \n",
       "3       0      2    2006        WD        Abnorml     140000  \n",
       "4       0     12    2008        WD         Normal     250000  \n",
       "5     700     10    2009        WD         Normal     143000  \n",
       "6       0      8    2007        WD         Normal     307000  \n",
       "7     350     11    2009        WD         Normal     200000  \n",
       "8       0      4    2008        WD        Abnorml     129900  \n",
       "9       0      1    2008        WD         Normal     118000  \n",
       "\n",
       "[10 rows x 76 columns]"
      ]
     },
     "execution_count": 254,
     "metadata": {},
     "output_type": "execute_result"
    }
   ],
   "source": [
    "'''\n",
    "Show the fist 10 rows of the dataframe.\n",
    "'''\n",
    "df_house.head(10)"
   ]
  },
  {
   "cell_type": "markdown",
   "id": "59fd4764",
   "metadata": {},
   "source": [
    "### Part 1.5 - Convert the categorical columns to dummy variables."
   ]
  },
  {
   "cell_type": "code",
   "execution_count": 255,
   "id": "5e0529cd",
   "metadata": {},
   "outputs": [],
   "source": [
    "'''\n",
    "Convert categorical columns to dummy variables with pd.get_dummies().\n",
    "'''\n",
    "df_house = pd.get_dummies(df_house, columns = category_columns)"
   ]
  },
  {
   "cell_type": "code",
   "execution_count": 256,
   "id": "db30c3d3",
   "metadata": {},
   "outputs": [
    {
     "name": "stdout",
     "output_type": "stream",
     "text": [
      "There are 1460 rows and 272 columns in this data frame.\n"
     ]
    }
   ],
   "source": [
    "'''\n",
    "Understand the shape of the dataframe after converting categorical columns to dummy variables.\n",
    "'''\n",
    "print('There are {} rows and {} columns in this data frame.'.format(df_house.shape[0], df_house.shape[1]))"
   ]
  },
  {
   "cell_type": "code",
   "execution_count": 257,
   "id": "95ff9605",
   "metadata": {},
   "outputs": [
    {
     "data": {
      "text/html": [
       "<div>\n",
       "<style scoped>\n",
       "    .dataframe tbody tr th:only-of-type {\n",
       "        vertical-align: middle;\n",
       "    }\n",
       "\n",
       "    .dataframe tbody tr th {\n",
       "        vertical-align: top;\n",
       "    }\n",
       "\n",
       "    .dataframe thead th {\n",
       "        text-align: right;\n",
       "    }\n",
       "</style>\n",
       "<table border=\"1\" class=\"dataframe\">\n",
       "  <thead>\n",
       "    <tr style=\"text-align: right;\">\n",
       "      <th></th>\n",
       "      <th>Id</th>\n",
       "      <th>MSSubClass</th>\n",
       "      <th>LotFrontage</th>\n",
       "      <th>LotArea</th>\n",
       "      <th>OverallQual</th>\n",
       "      <th>OverallCond</th>\n",
       "      <th>YearBuilt</th>\n",
       "      <th>YearRemodAdd</th>\n",
       "      <th>MasVnrArea</th>\n",
       "      <th>BsmtFinSF1</th>\n",
       "      <th>...</th>\n",
       "      <th>SaleType_ConLw</th>\n",
       "      <th>SaleType_New</th>\n",
       "      <th>SaleType_Oth</th>\n",
       "      <th>SaleType_WD</th>\n",
       "      <th>SaleCondition_Abnorml</th>\n",
       "      <th>SaleCondition_AdjLand</th>\n",
       "      <th>SaleCondition_Alloca</th>\n",
       "      <th>SaleCondition_Family</th>\n",
       "      <th>SaleCondition_Normal</th>\n",
       "      <th>SaleCondition_Partial</th>\n",
       "    </tr>\n",
       "  </thead>\n",
       "  <tbody>\n",
       "    <tr>\n",
       "      <th>0</th>\n",
       "      <td>1</td>\n",
       "      <td>60</td>\n",
       "      <td>65.0</td>\n",
       "      <td>8450</td>\n",
       "      <td>7</td>\n",
       "      <td>5</td>\n",
       "      <td>2003</td>\n",
       "      <td>2003</td>\n",
       "      <td>196.0</td>\n",
       "      <td>706</td>\n",
       "      <td>...</td>\n",
       "      <td>0</td>\n",
       "      <td>0</td>\n",
       "      <td>0</td>\n",
       "      <td>1</td>\n",
       "      <td>0</td>\n",
       "      <td>0</td>\n",
       "      <td>0</td>\n",
       "      <td>0</td>\n",
       "      <td>1</td>\n",
       "      <td>0</td>\n",
       "    </tr>\n",
       "    <tr>\n",
       "      <th>1</th>\n",
       "      <td>2</td>\n",
       "      <td>20</td>\n",
       "      <td>80.0</td>\n",
       "      <td>9600</td>\n",
       "      <td>6</td>\n",
       "      <td>8</td>\n",
       "      <td>1976</td>\n",
       "      <td>1976</td>\n",
       "      <td>0.0</td>\n",
       "      <td>978</td>\n",
       "      <td>...</td>\n",
       "      <td>0</td>\n",
       "      <td>0</td>\n",
       "      <td>0</td>\n",
       "      <td>1</td>\n",
       "      <td>0</td>\n",
       "      <td>0</td>\n",
       "      <td>0</td>\n",
       "      <td>0</td>\n",
       "      <td>1</td>\n",
       "      <td>0</td>\n",
       "    </tr>\n",
       "    <tr>\n",
       "      <th>2</th>\n",
       "      <td>3</td>\n",
       "      <td>60</td>\n",
       "      <td>68.0</td>\n",
       "      <td>11250</td>\n",
       "      <td>7</td>\n",
       "      <td>5</td>\n",
       "      <td>2001</td>\n",
       "      <td>2002</td>\n",
       "      <td>162.0</td>\n",
       "      <td>486</td>\n",
       "      <td>...</td>\n",
       "      <td>0</td>\n",
       "      <td>0</td>\n",
       "      <td>0</td>\n",
       "      <td>1</td>\n",
       "      <td>0</td>\n",
       "      <td>0</td>\n",
       "      <td>0</td>\n",
       "      <td>0</td>\n",
       "      <td>1</td>\n",
       "      <td>0</td>\n",
       "    </tr>\n",
       "    <tr>\n",
       "      <th>3</th>\n",
       "      <td>4</td>\n",
       "      <td>70</td>\n",
       "      <td>60.0</td>\n",
       "      <td>9550</td>\n",
       "      <td>7</td>\n",
       "      <td>5</td>\n",
       "      <td>1915</td>\n",
       "      <td>1970</td>\n",
       "      <td>0.0</td>\n",
       "      <td>216</td>\n",
       "      <td>...</td>\n",
       "      <td>0</td>\n",
       "      <td>0</td>\n",
       "      <td>0</td>\n",
       "      <td>1</td>\n",
       "      <td>1</td>\n",
       "      <td>0</td>\n",
       "      <td>0</td>\n",
       "      <td>0</td>\n",
       "      <td>0</td>\n",
       "      <td>0</td>\n",
       "    </tr>\n",
       "    <tr>\n",
       "      <th>4</th>\n",
       "      <td>5</td>\n",
       "      <td>60</td>\n",
       "      <td>84.0</td>\n",
       "      <td>14260</td>\n",
       "      <td>8</td>\n",
       "      <td>5</td>\n",
       "      <td>2000</td>\n",
       "      <td>2000</td>\n",
       "      <td>350.0</td>\n",
       "      <td>655</td>\n",
       "      <td>...</td>\n",
       "      <td>0</td>\n",
       "      <td>0</td>\n",
       "      <td>0</td>\n",
       "      <td>1</td>\n",
       "      <td>0</td>\n",
       "      <td>0</td>\n",
       "      <td>0</td>\n",
       "      <td>0</td>\n",
       "      <td>1</td>\n",
       "      <td>0</td>\n",
       "    </tr>\n",
       "    <tr>\n",
       "      <th>...</th>\n",
       "      <td>...</td>\n",
       "      <td>...</td>\n",
       "      <td>...</td>\n",
       "      <td>...</td>\n",
       "      <td>...</td>\n",
       "      <td>...</td>\n",
       "      <td>...</td>\n",
       "      <td>...</td>\n",
       "      <td>...</td>\n",
       "      <td>...</td>\n",
       "      <td>...</td>\n",
       "      <td>...</td>\n",
       "      <td>...</td>\n",
       "      <td>...</td>\n",
       "      <td>...</td>\n",
       "      <td>...</td>\n",
       "      <td>...</td>\n",
       "      <td>...</td>\n",
       "      <td>...</td>\n",
       "      <td>...</td>\n",
       "      <td>...</td>\n",
       "    </tr>\n",
       "    <tr>\n",
       "      <th>1455</th>\n",
       "      <td>1456</td>\n",
       "      <td>60</td>\n",
       "      <td>62.0</td>\n",
       "      <td>7917</td>\n",
       "      <td>6</td>\n",
       "      <td>5</td>\n",
       "      <td>1999</td>\n",
       "      <td>2000</td>\n",
       "      <td>0.0</td>\n",
       "      <td>0</td>\n",
       "      <td>...</td>\n",
       "      <td>0</td>\n",
       "      <td>0</td>\n",
       "      <td>0</td>\n",
       "      <td>1</td>\n",
       "      <td>0</td>\n",
       "      <td>0</td>\n",
       "      <td>0</td>\n",
       "      <td>0</td>\n",
       "      <td>1</td>\n",
       "      <td>0</td>\n",
       "    </tr>\n",
       "    <tr>\n",
       "      <th>1456</th>\n",
       "      <td>1457</td>\n",
       "      <td>20</td>\n",
       "      <td>85.0</td>\n",
       "      <td>13175</td>\n",
       "      <td>6</td>\n",
       "      <td>6</td>\n",
       "      <td>1978</td>\n",
       "      <td>1988</td>\n",
       "      <td>119.0</td>\n",
       "      <td>790</td>\n",
       "      <td>...</td>\n",
       "      <td>0</td>\n",
       "      <td>0</td>\n",
       "      <td>0</td>\n",
       "      <td>1</td>\n",
       "      <td>0</td>\n",
       "      <td>0</td>\n",
       "      <td>0</td>\n",
       "      <td>0</td>\n",
       "      <td>1</td>\n",
       "      <td>0</td>\n",
       "    </tr>\n",
       "    <tr>\n",
       "      <th>1457</th>\n",
       "      <td>1458</td>\n",
       "      <td>70</td>\n",
       "      <td>66.0</td>\n",
       "      <td>9042</td>\n",
       "      <td>7</td>\n",
       "      <td>9</td>\n",
       "      <td>1941</td>\n",
       "      <td>2006</td>\n",
       "      <td>0.0</td>\n",
       "      <td>275</td>\n",
       "      <td>...</td>\n",
       "      <td>0</td>\n",
       "      <td>0</td>\n",
       "      <td>0</td>\n",
       "      <td>1</td>\n",
       "      <td>0</td>\n",
       "      <td>0</td>\n",
       "      <td>0</td>\n",
       "      <td>0</td>\n",
       "      <td>1</td>\n",
       "      <td>0</td>\n",
       "    </tr>\n",
       "    <tr>\n",
       "      <th>1458</th>\n",
       "      <td>1459</td>\n",
       "      <td>20</td>\n",
       "      <td>68.0</td>\n",
       "      <td>9717</td>\n",
       "      <td>5</td>\n",
       "      <td>6</td>\n",
       "      <td>1950</td>\n",
       "      <td>1996</td>\n",
       "      <td>0.0</td>\n",
       "      <td>49</td>\n",
       "      <td>...</td>\n",
       "      <td>0</td>\n",
       "      <td>0</td>\n",
       "      <td>0</td>\n",
       "      <td>1</td>\n",
       "      <td>0</td>\n",
       "      <td>0</td>\n",
       "      <td>0</td>\n",
       "      <td>0</td>\n",
       "      <td>1</td>\n",
       "      <td>0</td>\n",
       "    </tr>\n",
       "    <tr>\n",
       "      <th>1459</th>\n",
       "      <td>1460</td>\n",
       "      <td>20</td>\n",
       "      <td>75.0</td>\n",
       "      <td>9937</td>\n",
       "      <td>5</td>\n",
       "      <td>6</td>\n",
       "      <td>1965</td>\n",
       "      <td>1965</td>\n",
       "      <td>0.0</td>\n",
       "      <td>830</td>\n",
       "      <td>...</td>\n",
       "      <td>0</td>\n",
       "      <td>0</td>\n",
       "      <td>0</td>\n",
       "      <td>1</td>\n",
       "      <td>0</td>\n",
       "      <td>0</td>\n",
       "      <td>0</td>\n",
       "      <td>0</td>\n",
       "      <td>1</td>\n",
       "      <td>0</td>\n",
       "    </tr>\n",
       "  </tbody>\n",
       "</table>\n",
       "<p>1460 rows × 272 columns</p>\n",
       "</div>"
      ],
      "text/plain": [
       "        Id  MSSubClass  LotFrontage  LotArea  OverallQual  OverallCond  \\\n",
       "0        1          60         65.0     8450            7            5   \n",
       "1        2          20         80.0     9600            6            8   \n",
       "2        3          60         68.0    11250            7            5   \n",
       "3        4          70         60.0     9550            7            5   \n",
       "4        5          60         84.0    14260            8            5   \n",
       "...    ...         ...          ...      ...          ...          ...   \n",
       "1455  1456          60         62.0     7917            6            5   \n",
       "1456  1457          20         85.0    13175            6            6   \n",
       "1457  1458          70         66.0     9042            7            9   \n",
       "1458  1459          20         68.0     9717            5            6   \n",
       "1459  1460          20         75.0     9937            5            6   \n",
       "\n",
       "      YearBuilt  YearRemodAdd  MasVnrArea  BsmtFinSF1  ...  SaleType_ConLw  \\\n",
       "0          2003          2003       196.0         706  ...               0   \n",
       "1          1976          1976         0.0         978  ...               0   \n",
       "2          2001          2002       162.0         486  ...               0   \n",
       "3          1915          1970         0.0         216  ...               0   \n",
       "4          2000          2000       350.0         655  ...               0   \n",
       "...         ...           ...         ...         ...  ...             ...   \n",
       "1455       1999          2000         0.0           0  ...               0   \n",
       "1456       1978          1988       119.0         790  ...               0   \n",
       "1457       1941          2006         0.0         275  ...               0   \n",
       "1458       1950          1996         0.0          49  ...               0   \n",
       "1459       1965          1965         0.0         830  ...               0   \n",
       "\n",
       "      SaleType_New  SaleType_Oth  SaleType_WD  SaleCondition_Abnorml  \\\n",
       "0                0             0            1                      0   \n",
       "1                0             0            1                      0   \n",
       "2                0             0            1                      0   \n",
       "3                0             0            1                      1   \n",
       "4                0             0            1                      0   \n",
       "...            ...           ...          ...                    ...   \n",
       "1455             0             0            1                      0   \n",
       "1456             0             0            1                      0   \n",
       "1457             0             0            1                      0   \n",
       "1458             0             0            1                      0   \n",
       "1459             0             0            1                      0   \n",
       "\n",
       "      SaleCondition_AdjLand  SaleCondition_Alloca  SaleCondition_Family  \\\n",
       "0                         0                     0                     0   \n",
       "1                         0                     0                     0   \n",
       "2                         0                     0                     0   \n",
       "3                         0                     0                     0   \n",
       "4                         0                     0                     0   \n",
       "...                     ...                   ...                   ...   \n",
       "1455                      0                     0                     0   \n",
       "1456                      0                     0                     0   \n",
       "1457                      0                     0                     0   \n",
       "1458                      0                     0                     0   \n",
       "1459                      0                     0                     0   \n",
       "\n",
       "      SaleCondition_Normal  SaleCondition_Partial  \n",
       "0                        1                      0  \n",
       "1                        1                      0  \n",
       "2                        1                      0  \n",
       "3                        0                      0  \n",
       "4                        1                      0  \n",
       "...                    ...                    ...  \n",
       "1455                     1                      0  \n",
       "1456                     1                      0  \n",
       "1457                     1                      0  \n",
       "1458                     1                      0  \n",
       "1459                     1                      0  \n",
       "\n",
       "[1460 rows x 272 columns]"
      ]
     },
     "metadata": {},
     "output_type": "display_data"
    }
   ],
   "source": [
    "'''\n",
    "Display the dataframe.\n",
    "'''\n",
    "display(df_house)"
   ]
  },
  {
   "cell_type": "markdown",
   "id": "be293312",
   "metadata": {},
   "source": [
    "### Part 1.6 - Split the data into a training and test set, where the SalePrice column is the target."
   ]
  },
  {
   "cell_type": "code",
   "execution_count": 258,
   "id": "62feeb93",
   "metadata": {},
   "outputs": [],
   "source": [
    "'''\n",
    "Define the target variable as y (SalePrice) and independent variables as X. \n",
    "'''\n",
    "X = df_house.drop('SalePrice', axis = 1)\n",
    "y = df_house['SalePrice']"
   ]
  },
  {
   "cell_type": "code",
   "execution_count": 259,
   "id": "2e63c72e",
   "metadata": {},
   "outputs": [],
   "source": [
    "'''\n",
    "Split the data with train_test_split from sklearn.\n",
    "Use test_size = 0.2 to split the data into 80% training and 20% testing data.\n",
    "'''\n",
    "X_train,X_test,y_train,y_test = train_test_split(X, y, test_size = 0.2, random_state = 42)"
   ]
  },
  {
   "cell_type": "code",
   "execution_count": 260,
   "id": "e0521454",
   "metadata": {},
   "outputs": [
    {
     "name": "stdout",
     "output_type": "stream",
     "text": [
      "The original data set shape was 1460 rows and 272 columns.\n",
      "The X_train shape is 1168 rows and 271 columns.\n",
      "The y_train shape is 1168 rows.\n",
      "The X_test shape is 292 rows and 271 columns.\n",
      "The y_test shape is 292 rows.\n"
     ]
    }
   ],
   "source": [
    "'''\n",
    "Print out the shape of the resulting datasets for training and testing.\n",
    "'''\n",
    "print(\"The original data set shape was {} rows and {} columns.\".format(df_house.shape[0],df_house.shape[1]))\n",
    "print(\"The X_train shape is {} rows and {} columns.\".format(X_train.shape[0],X_train.shape[1]))\n",
    "print(\"The y_train shape is {} rows.\".format(y_train.shape[0]))\n",
    "print(\"The X_test shape is {} rows and {} columns.\".format(X_test.shape[0],X_test.shape[1]))\n",
    "print(\"The y_test shape is {} rows.\".format(y_test.shape[0]))"
   ]
  },
  {
   "cell_type": "markdown",
   "id": "bf60454f",
   "metadata": {},
   "source": [
    "### Part 1.7 - Run a linear regression and report the R-Squared value and RMSE on the test set."
   ]
  },
  {
   "cell_type": "code",
   "execution_count": 261,
   "id": "93a1b682",
   "metadata": {},
   "outputs": [
    {
     "data": {
      "text/plain": [
       "LinearRegression()"
      ]
     },
     "execution_count": 261,
     "metadata": {},
     "output_type": "execute_result"
    }
   ],
   "source": [
    "'''\n",
    "Create the linear regression model with the training data.\n",
    "'''\n",
    "regressor = linear_model.LinearRegression()\n",
    "model = regressor.fit(X_train, y_train)\n",
    "model"
   ]
  },
  {
   "cell_type": "code",
   "execution_count": 262,
   "id": "e48381ab",
   "metadata": {},
   "outputs": [
    {
     "data": {
      "text/plain": [
       "-663418.7186037003"
      ]
     },
     "execution_count": 262,
     "metadata": {},
     "output_type": "execute_result"
    }
   ],
   "source": [
    "'''\n",
    "View the intercept of the model.\n",
    "'''\n",
    "model.intercept_"
   ]
  },
  {
   "cell_type": "code",
   "execution_count": 263,
   "id": "98bfd6f1",
   "metadata": {},
   "outputs": [
    {
     "data": {
      "text/plain": [
       "array([ 3.80199736e-01,  4.73249972e+01,  3.57306876e+01,  6.43115162e-01,\n",
       "        6.52603850e+03,  5.66253622e+03,  3.27152016e+02,  1.33734336e+02,\n",
       "        2.21528813e+01,  1.76730172e+01,  6.07035827e+00, -1.64330095e+00,\n",
       "        2.20998973e+01,  1.14334525e+01,  2.92564820e+01, -7.90085392e+00,\n",
       "        3.27891092e+01,  1.28245307e+03, -2.35110526e+03,  3.01639515e+03,\n",
       "        9.88292089e+02, -2.52453359e+03, -1.16576056e+04,  1.23049446e+03,\n",
       "        3.21751848e+03,  2.13170026e+01,  5.74628339e+02,  2.54930568e+01,\n",
       "        1.42612183e+01,  3.81909940e+00,  4.02237628e-01,  5.14382961e+01,\n",
       "        2.59970966e+01,  7.56792520e+01, -1.12785528e-02, -4.18039046e+02,\n",
       "       -2.30043068e+02, -1.96958704e+04,  1.18787088e+04,  2.22323125e+03,\n",
       "        3.20828031e+03,  2.38565012e+03, -9.85918466e+03,  9.85918466e+03,\n",
       "       -3.34458703e+03,  2.53696367e+03,  2.48027973e+03, -1.67265637e+03,\n",
       "       -2.83671128e+03,  1.09247749e+04, -9.91580269e+03,  1.82773905e+03,\n",
       "        1.31926819e+04, -1.31926819e+04,  3.43509737e+03,  1.37533971e+04,\n",
       "       -3.42617982e+03, -1.68377093e+04,  3.07539462e+03,  1.24690896e+04,\n",
       "        1.72142501e+04, -2.96833397e+04,  9.38405360e+03, -2.85571271e+03,\n",
       "       -8.07544321e+02, -2.51830850e+03, -5.82303951e+03, -5.21609533e+03,\n",
       "        1.10147765e+04, -1.59916398e+04, -6.88696797e+03, -1.17115818e+04,\n",
       "       -8.23476504e+03, -1.80151333e+04, -1.32497796e+04,  2.06547981e+04,\n",
       "       -1.42469112e+04,  2.77303032e+04,  2.02838893e+04, -1.26583966e+04,\n",
       "       -3.88730195e+03, -8.12638250e+03, -4.88007424e+03,  9.64604116e+02,\n",
       "        4.13828609e+04, -6.10095407e+03,  9.79530274e+03, -5.98194366e+03,\n",
       "        1.11000442e+03,  8.95684744e+03, -2.98323468e+02,  8.88097315e+03,\n",
       "       -1.97344633e+04,  3.12995837e+03,  1.22730675e+04, -8.33612043e+03,\n",
       "        3.58086882e+04,  4.87645493e+04,  3.33936838e+04,  8.19153564e+04,\n",
       "       -1.97138450e+05, -6.31071281e+04,  2.81164898e+04,  3.22468103e+04,\n",
       "        1.76632665e+04,  5.41285518e+03, -1.42439563e+03, -1.15536131e+04,\n",
       "       -1.00981130e+04,  2.00197977e+03,  1.89645317e+04,  1.08678944e+04,\n",
       "       -2.41844207e+04, -5.96700623e+03, -4.18698758e+03,  2.74912875e+02,\n",
       "        2.22909582e+03, -1.33149499e+04, -1.67332174e+04, -1.14254967e+04,\n",
       "       -1.72434373e+04,  1.94158667e+03,  5.67755146e+04, -5.82722338e+05,\n",
       "        8.85354017e+04, -4.63842298e-10,  1.32213748e+05,  8.51075854e+04,\n",
       "        9.03369248e+04,  8.74689863e+04,  9.90596924e+04,  2.16279152e+04,\n",
       "        1.99286105e+04,  6.99119853e+03,  1.95509485e+04, -4.95440150e+03,\n",
       "        3.55918744e+02, -2.96434041e+03, -5.88026498e+04,  4.37808346e+03,\n",
       "       -3.55541090e+03,  5.06207311e+03, -1.63802495e+02, -3.69534637e+03,\n",
       "       -1.48593144e+03, -2.27286511e+03, -1.34809489e+04, -1.78338482e+03,\n",
       "       -8.02476879e+03,  2.58525833e+03, -4.95440150e+03,  3.82747922e+03,\n",
       "        1.63418736e+03,  4.51470132e+04, -1.48550468e+03, -2.05537055e+04,\n",
       "       -2.56801183e+03, -1.25733575e+04,  5.52289733e+03,  3.82461073e+03,\n",
       "        3.42785174e+03, -5.45214455e+02, -5.82044765e+03, -9.74589373e+02,\n",
       "        3.00911447e+03,  3.78592256e+03,  1.02240609e+04,  5.07536242e+03,\n",
       "       -8.24129461e+03, -7.05812868e+03,  3.33054637e+03, -2.37257627e+03,\n",
       "       -5.08895849e+03,  7.55684512e+03, -3.42585673e+03,  9.39465657e+02,\n",
       "        3.81262805e+03,  6.06904502e+03,  8.92565850e+03,  8.65754045e+03,\n",
       "       -2.84043377e+04,  1.29583009e+04,  1.33844837e+03, -7.99181687e+03,\n",
       "       -6.30493239e+03, -1.78300100e+04, -1.67974596e+04,  4.60695925e+04,\n",
       "       -1.14421228e+04, -1.57128414e+03,  1.23005574e+04, -4.41862048e+03,\n",
       "       -6.31065273e+03, -6.60113379e+01, -1.77531992e+03,  3.37499800e+03,\n",
       "       -3.78317739e+03, -2.51906993e+02,  2.50141765e+03,  7.91990804e+03,\n",
       "       -5.35123113e+03,  5.57629012e+03, -8.24415485e+03,  8.42932146e+02,\n",
       "       -7.43744332e+02,  1.31158192e+04, -1.21474916e+03, -4.29566290e+03,\n",
       "       -5.42457724e+03, -2.18350169e+04,  1.96541869e+04, -1.74203087e+03,\n",
       "        1.95690845e+02, -5.44063090e+03,  1.01391838e+04, -3.15221292e+03,\n",
       "       -7.70814070e+02,  7.70814070e+02,  3.82299079e+03,  1.52797285e+03,\n",
       "       -7.60933667e+03, -2.91038305e-11,  2.25837303e+03,  1.50486895e+04,\n",
       "       -2.28665920e+02, -8.05275211e+03, -6.76727150e+03,  8.22285782e+03,\n",
       "       -1.18547156e+03,  1.09298074e+04,  1.17348219e+04,  1.52790706e+03,\n",
       "       -5.26360285e+04,  2.14061059e+04, -1.97608564e+04,  1.18516086e+03,\n",
       "        4.04328089e+03,  1.11498576e+03,  1.11320249e+04,  2.28540405e+03,\n",
       "        3.41654524e+01, -1.43795322e+03,  1.40378777e+03,  1.28510087e+05,\n",
       "       -3.19869474e+04, -2.85201473e+04, -4.14796608e+04, -2.65233313e+04,\n",
       "       -1.19530937e+05,  3.09973209e+04,  2.80856267e+04,  2.72254182e+04,\n",
       "        3.32225714e+04,  3.37042235e+03, -3.54027072e+03,  1.69848374e+02,\n",
       "       -8.11270277e+03,  1.04637463e+04,  1.39404952e+04,  3.74636010e+03,\n",
       "       -8.46690674e+03, -6.10930085e+03, -7.32299240e+03,  8.87127717e+03,\n",
       "       -7.00997605e+03, -1.05251650e+04,  4.26862117e+03,  1.64476574e+04,\n",
       "       -1.22512502e+04, -6.03341196e+03,  8.09354858e+03])"
      ]
     },
     "execution_count": 263,
     "metadata": {},
     "output_type": "execute_result"
    }
   ],
   "source": [
    "'''\n",
    "View the coefficients of the model.\n",
    "'''\n",
    "model.coef_"
   ]
  },
  {
   "cell_type": "code",
   "execution_count": 264,
   "id": "dd39ebf2",
   "metadata": {},
   "outputs": [
    {
     "data": {
      "text/plain": [
       "array([147345.33953745, 172043.73848838,  85417.68968423, ...,\n",
       "       119166.13561111, 169445.16621833, 189415.53680951])"
      ]
     },
     "execution_count": 264,
     "metadata": {},
     "output_type": "execute_result"
    }
   ],
   "source": [
    "'''\n",
    "Create predictions for SalesPrice based on training data set.\n",
    "'''\n",
    "y_predict_trained = regressor.predict(X_train)\n",
    "y_predict_trained"
   ]
  },
  {
   "cell_type": "code",
   "execution_count": 265,
   "id": "46562d80",
   "metadata": {},
   "outputs": [
    {
     "data": {
      "text/plain": [
       "array([156870.28078725, 349500.857027  ,  90843.51496291, 175184.82863283,\n",
       "       325763.51756319,  66004.56364057, 228677.40156569, 146121.61227295,\n",
       "        58318.71147688, 147748.32061355, 145991.89913327, 103096.15481323,\n",
       "        79038.66389975, 216974.45808938, 175350.23679265, 131952.80820885,\n",
       "       189127.07926636, 131255.68330235, 128166.65770424, 215197.31221245,\n",
       "       151648.84932347, 205981.79407445, 170989.47104715, 128931.32096879,\n",
       "       200324.36988811, 135567.70667752, 194392.8418488 , 104248.27103198,\n",
       "       176571.02151809, 202150.5721071 , 163970.17364807, 274947.61453387,\n",
       "       249923.44456271, 110917.63963449, 237338.634556  , 152172.39310789,\n",
       "       139537.7730677 , 202849.29695637, 311058.43733991, 104005.7264411 ,\n",
       "       122363.96586651, 225008.56535911, 100974.24570709, 367384.70344346,\n",
       "       129842.31307893, 142339.4696946 ,  97984.81247051, 138495.71275246,\n",
       "       419682.45484293, 133261.66028461, 120656.6056918 , 270554.37920272,\n",
       "       104737.10091113, 285344.61035116, 159871.61676782, 248161.16691292,\n",
       "       195309.30097806, 167494.14426789, 133106.43125587,  88472.91022964,\n",
       "        65626.08172545, 171035.94576645, 311888.79326081, 263939.95616259,\n",
       "       296272.67724448, 198478.58671755, 102090.07705157, 291517.68902689,\n",
       "       118311.67898512, 187076.83958427, 121466.53429051, 113959.58999825,\n",
       "       104343.57176692,  29121.8114229 , 469157.30910288, 205053.14409307,\n",
       "       311762.76796902, 380883.9837747 , 146339.88355205, 133276.04958567,\n",
       "       115316.92539046,  97904.23141215, 115974.00696101,  87631.97820965,\n",
       "       157502.22570177, 148420.5163416 , 259760.3929655 , 210052.5456282 ,\n",
       "       129527.81680917, 191153.57469228, 152770.59042522, 155925.32193902,\n",
       "       183940.87310596, 278130.1217077 , 124581.91739035, 181139.65763483,\n",
       "       189825.94084084, 154345.84943974, 214028.39998382, 263534.57658071,\n",
       "       178826.57992458, 206651.71911697, 302085.06334505, 152805.67425887,\n",
       "       205734.17032448, 175624.29037482, 140512.29279742, 297812.69352424,\n",
       "       160402.50772957, 155950.86470088,  59321.18053457, 136953.86405421,\n",
       "       148071.0448262 , 141610.34299316, 205551.10733245, 117763.71668237,\n",
       "       104782.11728602, 106298.43958023, 106603.1562056 , 302071.29478202,\n",
       "       104890.58704595, 135325.71447685, 184333.12884391, 184075.57035293,\n",
       "       196746.39794089, 123133.39683157, 231034.57275946, 107546.05261015,\n",
       "       153131.04513392, 178654.60288909, 187122.13449   , 337277.5334259 ,\n",
       "       200520.4118964 , 115429.90583461,  21466.78073853, 375510.55548394,\n",
       "       369294.83531776, 137388.36847586, 240361.23135239, 582624.29051806,\n",
       "       355768.54219   , 127378.82263276, 173972.37770968, 168882.6578998 ,\n",
       "       155022.61380951, 113071.73546749, 229921.20163805, 192261.11209799,\n",
       "       134531.64092573,  47187.65641398, 132244.0895783 , 139271.47712475,\n",
       "       263876.16444767, 165903.14906386,  69976.45922621, 107904.48272468,\n",
       "       140048.41183123, 147652.77505241,  77138.42123722, 129129.50140148,\n",
       "       208502.11977855, 117489.95701787, 299983.85091078, 159784.96055081,\n",
       "       114795.7440396 , 125611.28278558, 262145.50245295, 334830.34755248,\n",
       "       422752.92377228, 228504.26185343, 364958.730945  , 103629.00156823,\n",
       "        99787.79426707, 146441.89194333, 318812.09537896, 109842.36891404,\n",
       "       114779.05599472, 208067.45904858, 131023.74422708, 167506.08762217,\n",
       "       200016.21429198, 113100.26237101, 133057.72915294, 146802.95608098,\n",
       "       244177.16013762, 153261.4610026 , 249137.04874543, 223720.46407033,\n",
       "       201038.9270099 ,  78383.22506968, 116862.78266179,  59150.99603814,\n",
       "       151308.4815362 , 181698.63355812, 200728.85213883, 206237.385587  ,\n",
       "       196296.12151203,  79755.08731426, 198574.26426685, 124832.6056976 ,\n",
       "       250555.22311479, 215159.096282  , 119258.46811534, 316323.93983192,\n",
       "       192645.94175229, 122741.99853228, 225151.44513304, 138442.29613925,\n",
       "       148060.59615419,  96420.71805558, 215984.09419355, 138575.6692873 ,\n",
       "       114191.246576  , 177847.33136144,  75938.77455987, 254604.0799534 ,\n",
       "       211353.8508931 , 142560.33467079, 153413.11676675,  94816.00680284,\n",
       "       130977.89863348, 212705.58099763, 214765.59210888,  83077.43533474,\n",
       "       212368.31382738, 146304.21423336,  63213.69020039,  83556.26953175,\n",
       "       163947.15355115,  99068.22599417,  78818.15493854, 165202.03027862,\n",
       "       107719.18283212, 137892.04639618, 224186.18275261, 145088.21917456,\n",
       "       201533.09053549, 165586.02781857, 239601.90681842, 101679.80764121,\n",
       "       108485.87577913, 272380.9441513 , 229632.96672289, 466222.40100701,\n",
       "       178033.92878948, 148047.33071159, 150201.15030656, 164367.57484174,\n",
       "       142282.05282921,  98420.08580441, 188471.20457962, 152852.18063559,\n",
       "       146921.55399483, 102399.05307766, 139168.00714241, 141265.11441486,\n",
       "       114777.0955447 , 125840.74208311, 169726.36278064, 248151.88627302,\n",
       "       297211.91356128, 179731.76798873, 139018.69583528, 239596.47806922,\n",
       "       342672.38087504, 225323.46673182, 167304.544619  , 132123.67866216,\n",
       "       105585.06435285, 176093.38386184, 415635.80079013, 228460.63361036,\n",
       "       231928.89606346,  73408.6418324 ,  83083.95683345, 144116.68930534,\n",
       "       135986.38589229, 317526.12660867, 232079.57330051, 129887.33071456,\n",
       "       198566.22506912,  96609.93165596, 203898.43335748, 101321.33838352,\n",
       "       299578.61637798, 184114.05717877, 213932.51480599, 157060.72690678,\n",
       "       290266.72546959, 188877.6387805 ,  86028.46033964, 115419.36357703])"
      ]
     },
     "execution_count": 265,
     "metadata": {},
     "output_type": "execute_result"
    }
   ],
   "source": [
    "'''\n",
    "Create predictions for SalesPrice based on test data set.\n",
    "'''\n",
    "y_predict_test = regressor.predict(X_test)\n",
    "y_predict_test"
   ]
  },
  {
   "cell_type": "code",
   "execution_count": 266,
   "id": "af7360f0",
   "metadata": {},
   "outputs": [
    {
     "name": "stdout",
     "output_type": "stream",
     "text": [
      "R-Squared value for model based on test data set is 0.886.\n"
     ]
    }
   ],
   "source": [
    "'''\n",
    "Calcualte the R-Squared value for the model based on the test data set.\n",
    "'''\n",
    "R2_test = r2_score(y_test, y_predict_test)\n",
    "print('R-Squared value for model based on test data set is {}.'.format(round(R2_test,3)))"
   ]
  },
  {
   "cell_type": "code",
   "execution_count": 267,
   "id": "ae6b9e8f",
   "metadata": {},
   "outputs": [
    {
     "name": "stdout",
     "output_type": "stream",
     "text": [
      "Root Mean Squared Error for model based on test data set is 29558.07\n"
     ]
    }
   ],
   "source": [
    "'''\n",
    "Calculate the Root Mean Squared Error for the model based on the test data set.\n",
    "'''\n",
    "mse_test = mean_squared_error(y_test, y_predict_test)\n",
    "rmse_test = np.sqrt(mse_test)\n",
    "print('Root Mean Squared Error for model based on test data set is {}'.format(round(rmse_test,2)))"
   ]
  },
  {
   "cell_type": "markdown",
   "id": "8f83b462",
   "metadata": {},
   "source": [
    "### Part 1.8 - Fit and transform the training features with a PCA so that 90% of the variance is retained (see section 9.1 in the Machine Learning with Python Cookbook)."
   ]
  },
  {
   "cell_type": "code",
   "execution_count": 268,
   "id": "2516b527",
   "metadata": {},
   "outputs": [],
   "source": [
    "'''\n",
    "Standardize the X_train and X_test datasets.\n",
    "'''\n",
    "sc = StandardScaler()\n",
    "X_train_standardized = sc.fit_transform(X_train)\n",
    "X_test_standardized = sc.transform(X_test)"
   ]
  },
  {
   "cell_type": "code",
   "execution_count": 269,
   "id": "81e906d6",
   "metadata": {},
   "outputs": [],
   "source": [
    "'''\n",
    "Create a PCA that will retain 90% of the variance.\n",
    "'''\n",
    "pca = PCA(n_components=0.90, whiten = True)"
   ]
  },
  {
   "cell_type": "code",
   "execution_count": 270,
   "id": "a419293d",
   "metadata": {},
   "outputs": [],
   "source": [
    "'''\n",
    "Conduct PCA on the X_train_standardized datasets.\n",
    "'''\n",
    "X_train_pca = pca.fit_transform(X_train_standardized)"
   ]
  },
  {
   "cell_type": "markdown",
   "id": "3b2ca2a0",
   "metadata": {},
   "source": [
    "### Part 1.9 - How many features are in the PCA-transformed matrix?"
   ]
  },
  {
   "cell_type": "code",
   "execution_count": 271,
   "id": "05a7aa72",
   "metadata": {},
   "outputs": [
    {
     "name": "stdout",
     "output_type": "stream",
     "text": [
      "Original number of features: 271\n",
      "Reduced number of features in PCA-transformed matrix: 141\n"
     ]
    }
   ],
   "source": [
    "print('Original number of features:', X_train.shape[1])\n",
    "print('Reduced number of features in PCA-transformed matrix:', X_train_pca.shape[1])"
   ]
  },
  {
   "cell_type": "markdown",
   "id": "aade4ed5",
   "metadata": {},
   "source": [
    "There are 141 features in the PCA-transformed matrix."
   ]
  },
  {
   "cell_type": "markdown",
   "id": "6eaef002",
   "metadata": {},
   "source": [
    "### Part 1.10 - Transform but DO NOT fit the test features with the same PCA."
   ]
  },
  {
   "cell_type": "code",
   "execution_count": 272,
   "id": "7a97d74e",
   "metadata": {},
   "outputs": [],
   "source": [
    "'''\n",
    "Use the transform() method only on the X_test features with the PCA that will retain 90% of variance.\n",
    "'''\n",
    "X_test_pca = pca.transform(X_test_standardized)"
   ]
  },
  {
   "cell_type": "markdown",
   "id": "6f3e32c7",
   "metadata": {},
   "source": [
    "### Part 1.11 - Repeat step 7 with your PCA transformed data."
   ]
  },
  {
   "cell_type": "code",
   "execution_count": 273,
   "id": "4a0da94e",
   "metadata": {},
   "outputs": [
    {
     "data": {
      "text/plain": [
       "LinearRegression()"
      ]
     },
     "execution_count": 273,
     "metadata": {},
     "output_type": "execute_result"
    }
   ],
   "source": [
    "'''\n",
    "Create the linear regression model with the pca training data.\n",
    "'''\n",
    "regressor = linear_model.LinearRegression()\n",
    "model_pca = regressor.fit(X_train_pca, y_train)\n",
    "model_pca"
   ]
  },
  {
   "cell_type": "code",
   "execution_count": 274,
   "id": "dd3eb6c4",
   "metadata": {},
   "outputs": [
    {
     "data": {
      "text/plain": [
       "181441.5419520548"
      ]
     },
     "execution_count": 274,
     "metadata": {},
     "output_type": "execute_result"
    }
   ],
   "source": [
    "'''\n",
    "View the intercept of the model with the pca training features.\n",
    "'''\n",
    "model_pca.intercept_"
   ]
  },
  {
   "cell_type": "code",
   "execution_count": 275,
   "id": "906f2a0d",
   "metadata": {},
   "outputs": [
    {
     "data": {
      "text/plain": [
       "array([ 5.94834974e+04,  3.88245671e+02,  3.12496617e+04, -1.11939086e+03,\n",
       "       -6.14410373e+03,  3.75760701e+03, -9.64760220e+03,  4.35091756e+03,\n",
       "       -4.37126980e+03, -6.08589341e+03, -2.96640386e+03, -2.93449487e+02,\n",
       "        1.04715942e+03, -1.34747882e+03,  2.51327454e+01,  8.24525443e+02,\n",
       "        2.81221576e+02, -2.66752735e+02, -1.34227366e+03,  4.31808079e+03,\n",
       "        2.88576602e+03, -4.44922062e+02, -1.68690625e+03, -4.65425789e+03,\n",
       "        1.76805593e+02, -1.83472472e+03,  4.81393505e+03, -1.27479165e+03,\n",
       "        3.25934913e+03, -2.14280450e+03, -2.03238106e+03,  3.82227827e+03,\n",
       "       -2.85000328e+02, -7.10457596e+03, -4.45169823e+03, -7.59080618e+02,\n",
       "       -4.31336022e+02, -9.71600806e+02,  4.65538227e+03,  4.07529817e+02,\n",
       "       -2.64050311e+03,  1.00782720e+03,  1.25449622e+03, -1.70681700e+03,\n",
       "        1.82616909e+03, -8.51705655e+02,  2.23419799e+02, -2.88737534e+03,\n",
       "       -2.54406385e+03,  4.77469459e+02, -6.11721636e+03, -1.69975111e+01,\n",
       "        3.99793830e+03,  5.57876976e+03, -6.27002625e+00, -1.11274356e+03,\n",
       "       -9.45780740e+02,  3.30973944e+02,  1.50625935e+03,  1.21581042e+03,\n",
       "        3.44528861e+02, -4.88805319e+03,  1.08106860e+03,  2.01689633e+03,\n",
       "        6.47303444e+02,  1.09945211e+03,  1.47670826e+03, -1.52734477e+03,\n",
       "        6.24697217e+02, -1.53945413e+02, -4.51848394e+03, -3.72681479e+03,\n",
       "        3.49550426e+02, -4.18718953e+02, -1.77914556e+03, -7.36214684e+02,\n",
       "        2.12227447e+02,  2.83555860e+03,  3.40515580e+03, -1.24815095e+03,\n",
       "       -1.54585652e+03,  5.47342701e+02,  3.70276506e+03,  4.01997847e+02,\n",
       "       -1.32826906e+03, -2.64423980e+03,  8.20486811e+02,  2.91627113e+03,\n",
       "        2.49919483e+02,  1.52171449e+02,  7.62404967e+02,  1.89753845e+03,\n",
       "       -2.22139947e+03, -6.85185897e+02, -2.46563102e+03, -1.81701083e+03,\n",
       "        2.98411784e+01, -8.81026781e+02,  3.47564907e+02,  2.20185807e+03,\n",
       "        9.54469522e+02, -2.69773669e+03, -2.38854999e+01,  1.97560678e+03,\n",
       "       -1.60265186e+03,  4.65245400e+01, -5.94808985e+02,  1.87544052e+02,\n",
       "       -2.25377884e+03, -1.93758887e+03,  5.36434283e+02, -6.76069433e+02,\n",
       "       -1.88586498e+02,  1.46293506e+02,  1.72308294e+03,  4.11043945e+03,\n",
       "        1.03034882e+03,  6.69503524e+02, -2.55992800e+03, -1.87056702e+03,\n",
       "       -1.07214985e+02,  4.95947454e+02,  3.31351702e+03,  4.48976111e+03,\n",
       "        1.00488846e+03, -7.85097038e+02,  2.50909166e+01, -3.52122020e+03,\n",
       "        1.42429525e+03, -1.68846877e+03, -1.63145900e+03,  1.64357128e+03,\n",
       "       -5.33300913e+02, -2.08604164e+03,  2.35284096e+03, -1.11863155e+03,\n",
       "        9.19145286e+02,  5.69574956e+01,  5.48069576e+02,  3.00378428e+03,\n",
       "        8.56515666e+02])"
      ]
     },
     "execution_count": 275,
     "metadata": {},
     "output_type": "execute_result"
    }
   ],
   "source": [
    "'''\n",
    "View the coefficients of the model with the pca training features.\n",
    "'''\n",
    "model_pca.coef_"
   ]
  },
  {
   "cell_type": "code",
   "execution_count": 276,
   "id": "fa1183b9",
   "metadata": {},
   "outputs": [
    {
     "data": {
      "text/plain": [
       "array([138202.25660579, 163078.60960664,  71607.12161162, ...,\n",
       "       120660.16905854, 186856.23739383, 188152.66435545])"
      ]
     },
     "execution_count": 276,
     "metadata": {},
     "output_type": "execute_result"
    }
   ],
   "source": [
    "'''\n",
    "Create predictions for SalesPrice based on pca feature training data set.\n",
    "'''\n",
    "y_predict_pca_trained = regressor.predict(X_train_pca)\n",
    "y_predict_pca_trained"
   ]
  },
  {
   "cell_type": "code",
   "execution_count": 277,
   "id": "a973aaca",
   "metadata": {},
   "outputs": [
    {
     "data": {
      "text/plain": [
       "array([145987.50568942, 339820.750297  ,  89066.57729232, 168847.94863007,\n",
       "       345606.57870507,  37522.17848054, 226287.5009053 , 151989.94053318,\n",
       "        42649.02687718, 143233.22807276, 128205.01038175, 111247.03589944,\n",
       "       118832.88795428, 219063.09414037, 165244.30020682, 124147.272305  ,\n",
       "       190439.32639807, 112272.11126526, 141163.32657562, 212799.5103193 ,\n",
       "       122838.75655065, 201263.37227549, 192135.69886197, 123187.13282696,\n",
       "       208669.25276296, 156950.14114875, 197747.7495335 ,  91411.28015021,\n",
       "       162690.15688705, 198514.13407784, 114669.06692365, 279769.28587381,\n",
       "       184865.39434933, 109270.14479885, 248949.71335485, 151658.67472591,\n",
       "       130832.20519516, 217996.79339697, 318200.87494405, 111086.08390624,\n",
       "       145769.80259696, 239512.91784949, 105511.85886947, 371181.97696231,\n",
       "       132738.24956903, 166170.20968878,  98672.1964339 , 133321.10505568,\n",
       "       412887.22357464, 130019.76638364, 111735.17473019, 251047.90289661,\n",
       "       116486.489708  , 262794.36151179, 170509.23955682, 231500.15438155,\n",
       "       207716.88524627, 188853.99821568, 142425.87651564, 103476.37147731,\n",
       "        69878.42225733, 175435.09232256, 313059.03011068, 256812.74939838,\n",
       "       311780.642661  , 180321.24116604, 104326.66571783, 310104.20930016,\n",
       "       119682.41265546, 156388.82682418, 125931.27555311, 117324.43299399,\n",
       "       112951.6499952 ,  73869.87708554, 435590.61062054, 208092.4611875 ,\n",
       "       303017.64502828, 375044.08821087, 141781.2430128 , 103016.50679481,\n",
       "       113128.47635838,  68767.48378105, 147206.90431892,  95084.75922305,\n",
       "       164132.84876649, 126173.47316279, 262868.71396959, 227025.91186343,\n",
       "       136110.82745921, 201462.14985115, 129514.15945411, 165805.64379327,\n",
       "       164026.30653433, 253574.38555252, 120645.01624726, 204592.23722942,\n",
       "       238991.18922905, 167594.1164574 , 210598.91909271, 289154.09652061,\n",
       "       102969.29020944, 207084.85024772, 258332.4343659 , 152967.86645515,\n",
       "       185905.99396574, 208175.69016784, 150763.99318168, 287898.29330943,\n",
       "       143960.1102437 , 223134.24043963,   9456.35356588, 129274.31410494,\n",
       "       136524.55256533, 138637.37082527, 207392.42610763, 115418.58333316,\n",
       "        81633.3096009 , 116374.10161912, 102731.24683483, 275270.2411113 ,\n",
       "       113132.13791514, 137811.78479445, 179608.66180904, 181482.0486545 ,\n",
       "       191688.66905146, 135124.44868476, 228185.73662369,  75602.50928206,\n",
       "       144503.52452285, 206727.7712401 , 195792.06658705, 330793.66870577,\n",
       "       181180.90203095, 142679.3110293 ,  37121.03562648, 383596.44304268,\n",
       "       352296.29658182, 135146.31125453, 220070.68813362, 517230.12385437,\n",
       "       354438.74035452, 124481.80532827, 192565.41268924, 153358.08010461,\n",
       "       117434.05925076, 127502.99916013, 235739.52678792, 194356.97673743,\n",
       "       108112.3002889 ,  68286.26847435, 135283.45491884, 137398.61543695,\n",
       "       273717.78461287, 144912.90690567,  77097.90765331, 112656.34080114,\n",
       "       120797.84289863, 162134.74201148,  98988.75553862, 135215.29253556,\n",
       "       216380.35997697, 110627.76894005, 293509.34758815, 170865.9297916 ,\n",
       "       114982.66643468, 144402.31670417, 248238.46143544, 338816.40172258,\n",
       "       424154.57866238, 204594.42576523, 377575.4755437 ,  92550.43654336,\n",
       "       113352.55103766, 138340.91114475, 311926.54653277, 123419.31506343,\n",
       "       125855.98136018, 219151.72027788, 121857.65885331, 162784.7024817 ,\n",
       "       202763.20998373, 129355.80605925, 120673.06720262, 151751.65198777,\n",
       "       240391.47172558, 101264.0243571 , 272267.80032514, 217533.26488972,\n",
       "       199836.36537131,  72814.64048924, 117197.12007938, 120422.13745205,\n",
       "       180558.66933758, 154104.48386626, 198419.2714708 , 202336.30238039,\n",
       "       179339.55098696,  92766.49741368, 208263.38255559, 143051.8311265 ,\n",
       "       266140.25108351, 206167.75333578, 120534.19306836, 308650.2617891 ,\n",
       "       203076.98653093, 133016.42472721, 227284.06006362, 121819.42078912,\n",
       "       127403.67842455,  99781.06499765, 216295.67759421, 152157.19090497,\n",
       "       115298.28767553, 148710.89343637, 210293.84323341, 235221.2531875 ,\n",
       "       203688.5771808 , 139187.66606015, 171960.56122961, 118119.46014027,\n",
       "       147677.34374904, 219416.63560442, 198812.59645733,  93924.8347703 ,\n",
       "       239612.66953909, 123104.20527227,  87433.68938111,  95440.93649708,\n",
       "       158479.85544795, 130267.78736869,  99680.89946722, 158324.17714802,\n",
       "       107715.02066586, 124520.14914651, 240627.69180906, 171102.05756212,\n",
       "       203570.39414928, 154974.95320987, 253135.41968571, 104544.1789333 ,\n",
       "       116145.65023075, 238498.21968474, 221396.21785229, 450801.92574535,\n",
       "       229689.34835006, 131142.72140859, 163690.6010149 , 161284.29444122,\n",
       "       137204.57527906,  92914.24458296, 156055.45328955, 152421.94016266,\n",
       "       147658.21244843, 132535.56940406, 156216.76192424, 131039.94748538,\n",
       "        95948.90841027, 121243.22637155, 190611.96712225, 234542.52331607,\n",
       "       289645.85020124, 201051.03427756, 119322.91666265, 242833.73209733,\n",
       "       372615.35353195, 237813.97801498, 161294.55995015, 128520.315752  ,\n",
       "       108276.5861501 , 175421.82270747, 398429.50689764, 236290.12676732,\n",
       "       241485.24190994,  80435.56784082,  71172.31037154, 130757.29877586,\n",
       "       114026.65908192, 316639.43125225, 255470.74339055, 126972.7583049 ,\n",
       "       197576.20882058, 100895.87401556, 200001.0869831 , 126435.37244863,\n",
       "       300580.66376191, 182433.01855619, 206936.03834045, 137511.95046621,\n",
       "       291277.81165547, 195464.87063809, 102507.42744095, 117385.49059053])"
      ]
     },
     "execution_count": 277,
     "metadata": {},
     "output_type": "execute_result"
    }
   ],
   "source": [
    "'''\n",
    "Create predictions for SalesPrice based on pca feature test data set.\n",
    "'''\n",
    "y_predict_pca_test = regressor.predict(X_test_pca)\n",
    "y_predict_pca_test"
   ]
  },
  {
   "cell_type": "code",
   "execution_count": 278,
   "id": "9895537e",
   "metadata": {},
   "outputs": [
    {
     "name": "stdout",
     "output_type": "stream",
     "text": [
      "R-Squared value for model based on PCA test data set is 0.858.\n"
     ]
    }
   ],
   "source": [
    "'''\n",
    "Calcualte the R-Squared value for the model based on the pca test data set.\n",
    "'''\n",
    "R2_pca_test = r2_score(y_test, y_predict_pca_test)\n",
    "print('R-Squared value for model based on PCA test data set is {}.'.format(round(R2_pca_test,3)))"
   ]
  },
  {
   "cell_type": "code",
   "execution_count": 279,
   "id": "58ee6e94",
   "metadata": {},
   "outputs": [
    {
     "name": "stdout",
     "output_type": "stream",
     "text": [
      "Root Mean Squared Error for model based on PCA test data set is 33056.67\n"
     ]
    }
   ],
   "source": [
    "'''\n",
    "Calculate the Root Mean Squared Error for the model based on the pca test data set.\n",
    "'''\n",
    "mse_pca_test = mean_squared_error(y_test, y_predict_pca_test)\n",
    "rmse_pca_test = np.sqrt(mse_pca_test)\n",
    "print('Root Mean Squared Error for model based on PCA test data set is {}'.format(round(rmse_pca_test,2)))"
   ]
  },
  {
   "cell_type": "markdown",
   "id": "65537c08",
   "metadata": {},
   "source": [
    "### Part 1.12 - Take your original training features (from step 6) and apply a min-max scaler to them."
   ]
  },
  {
   "cell_type": "code",
   "execution_count": 281,
   "id": "b6ec755b",
   "metadata": {},
   "outputs": [],
   "source": [
    "'''\n",
    "Apply a min-max scaler on the X_train dataset (original training features).\n",
    "'''\n",
    "scaler = MinMaxScaler()\n",
    "X_train_mms = scaler.fit_transform(X_train)"
   ]
  },
  {
   "cell_type": "markdown",
   "id": "abe66fff",
   "metadata": {},
   "source": [
    "### Part 1.13 - Find the min-max scaled features in your training set that have a variance above 0.1 (see Section 10.1 in the Machine Learning with Python Cookbook)."
   ]
  },
  {
   "cell_type": "code",
   "execution_count": 291,
   "id": "e32797af",
   "metadata": {},
   "outputs": [],
   "source": [
    "'''\n",
    "Create a thresholder with VarianceThreshold().\n",
    "'''\n",
    "thresholder = VarianceThreshold(threshold = 0.1)"
   ]
  },
  {
   "cell_type": "code",
   "execution_count": 292,
   "id": "662b0592",
   "metadata": {},
   "outputs": [],
   "source": [
    "'''\n",
    "Create a high variance feature matrix based on X_train_mms data.\n",
    "'''\n",
    "train_features_high_variance = thresholder.fit_transform(X_train_mms)"
   ]
  },
  {
   "cell_type": "code",
   "execution_count": 294,
   "id": "23b4dca0",
   "metadata": {},
   "outputs": [
    {
     "data": {
      "text/plain": [
       "array([[0.11666667, 1.        , 1.        , 0.        , 0.        ,\n",
       "        1.        , 0.        , 1.        , 1.        , 1.        ,\n",
       "        1.        , 1.        , 0.        , 1.        , 0.        ,\n",
       "        0.        , 1.        , 0.        , 0.        , 0.        ,\n",
       "        1.        , 0.        , 0.        , 0.        , 1.        ,\n",
       "        0.        , 1.        , 0.        , 1.        , 0.        ,\n",
       "        0.        , 1.        , 0.        , 1.        , 0.        ,\n",
       "        0.        , 0.        , 0.        , 0.        , 1.        ,\n",
       "        0.        , 1.        , 1.        , 0.        , 0.        ,\n",
       "        1.        , 0.        , 1.        , 1.        ],\n",
       "       [0.73333333, 0.75      , 1.        , 0.        , 1.        ,\n",
       "        0.        , 0.        , 1.        , 0.        , 1.        ,\n",
       "        1.        , 0.        , 1.        , 1.        , 0.        ,\n",
       "        0.        , 0.        , 1.        , 0.        , 0.        ,\n",
       "        0.        , 1.        , 0.        , 0.        , 1.        ,\n",
       "        1.        , 0.        , 1.        , 0.        , 1.        ,\n",
       "        1.        , 0.        , 0.        , 1.        , 0.        ,\n",
       "        0.        , 1.        , 0.        , 1.        , 0.        ,\n",
       "        0.        , 1.        , 1.        , 0.        , 0.        ,\n",
       "        1.        , 0.        , 1.        , 1.        ],\n",
       "       [0.        , 0.5       , 1.        , 0.        , 0.        ,\n",
       "        1.        , 0.        , 1.        , 0.        , 0.        ,\n",
       "        1.        , 1.        , 0.        , 1.        , 0.        ,\n",
       "        0.        , 1.        , 0.        , 0.        , 0.        ,\n",
       "        0.        , 0.        , 1.        , 0.        , 1.        ,\n",
       "        0.        , 1.        , 1.        , 1.        , 0.        ,\n",
       "        0.        , 0.        , 0.        , 1.        , 0.        ,\n",
       "        0.        , 1.        , 0.        , 1.        , 0.        ,\n",
       "        0.        , 1.        , 1.        , 0.        , 0.        ,\n",
       "        0.        , 1.        , 1.        , 1.        ],\n",
       "       [0.        , 0.25      , 1.        , 0.        , 0.        ,\n",
       "        1.        , 1.        , 0.        , 0.        , 0.        ,\n",
       "        1.        , 0.        , 0.        , 1.        , 0.        ,\n",
       "        0.        , 0.        , 0.        , 1.        , 0.        ,\n",
       "        0.        , 0.        , 1.        , 1.        , 0.        ,\n",
       "        0.        , 1.        , 1.        , 0.        , 0.        ,\n",
       "        1.        , 0.        , 0.        , 1.        , 1.        ,\n",
       "        0.        , 0.        , 1.        , 0.        , 0.        ,\n",
       "        1.        , 0.        , 0.        , 1.        , 0.        ,\n",
       "        0.        , 1.        , 1.        , 1.        ],\n",
       "       [0.        , 1.        , 1.        , 0.        , 0.        ,\n",
       "        1.        , 0.        , 1.        , 0.        , 1.        ,\n",
       "        1.        , 0.        , 0.        , 1.        , 0.        ,\n",
       "        0.        , 0.        , 0.        , 0.        , 0.        ,\n",
       "        0.        , 0.        , 1.        , 0.        , 1.        ,\n",
       "        0.        , 1.        , 1.        , 0.        , 0.        ,\n",
       "        0.        , 1.        , 0.        , 1.        , 0.        ,\n",
       "        0.        , 0.        , 0.        , 0.        , 1.        ,\n",
       "        1.        , 0.        , 0.        , 1.        , 0.        ,\n",
       "        0.        , 1.        , 1.        , 1.        ]])"
      ]
     },
     "execution_count": 294,
     "metadata": {},
     "output_type": "execute_result"
    }
   ],
   "source": [
    "'''\n",
    "Display the matrix of features with high variance from training set.\n",
    "'''\n",
    "train_features_high_variance[0:5]"
   ]
  },
  {
   "cell_type": "markdown",
   "id": "d9edac7d",
   "metadata": {},
   "source": [
    "### Part 1.14 - Transform but DO NOT fit the test features with the same steps applied in steps 12 and 13."
   ]
  },
  {
   "cell_type": "code",
   "execution_count": 295,
   "id": "b425b565",
   "metadata": {},
   "outputs": [],
   "source": [
    "'''\n",
    "Use the transform() method only on the X_test features with the thresholder set at 0.1.\n",
    "Start with the min-max scaler on X_test similar to step 1.12.\n",
    "'''\n",
    "X_test_mms = scaler.transform(X_test)"
   ]
  },
  {
   "cell_type": "code",
   "execution_count": 296,
   "id": "57c8ea96",
   "metadata": {},
   "outputs": [],
   "source": [
    "'''\n",
    "Use the transform() method only on the X_test features with the thresholder set at 0.1.\n",
    "Find the min-max features in the X_test dataset similar to step 1.13.\n",
    "Create a high variance feature matrix based on X_test_mms.\n",
    "'''\n",
    "test_features_high_variance = thresholder.transform(X_test_mms)"
   ]
  },
  {
   "cell_type": "code",
   "execution_count": 297,
   "id": "85e3b414",
   "metadata": {},
   "outputs": [
    {
     "data": {
      "text/plain": [
       "array([[0.88333333, 0.        , 1.        , 0.        , 0.        ,\n",
       "        1.        , 0.        , 1.        , 0.        , 1.        ,\n",
       "        1.        , 1.        , 0.        , 0.        , 1.        ,\n",
       "        1.        , 0.        , 0.        , 0.        , 1.        ,\n",
       "        0.        , 0.        , 0.        , 0.        , 1.        ,\n",
       "        0.        , 1.        , 1.        , 1.        , 0.        ,\n",
       "        0.        , 1.        , 0.        , 1.        , 0.        ,\n",
       "        1.        , 0.        , 0.        , 0.        , 1.        ,\n",
       "        0.        , 1.        , 1.        , 0.        , 0.        ,\n",
       "        1.        , 0.        , 1.        , 1.        ],\n",
       "       [0.75      , 1.        , 1.        , 0.        , 1.        ,\n",
       "        0.        , 1.        , 0.        , 0.        , 1.        ,\n",
       "        1.        , 0.        , 1.        , 1.        , 0.        ,\n",
       "        1.        , 0.        , 0.        , 0.        , 1.        ,\n",
       "        0.        , 0.        , 0.        , 1.        , 0.        ,\n",
       "        1.        , 0.        , 1.        , 0.        , 1.        ,\n",
       "        0.        , 0.        , 1.        , 0.        , 0.        ,\n",
       "        1.        , 0.        , 1.        , 0.        , 0.        ,\n",
       "        1.        , 0.        , 1.        , 0.        , 0.        ,\n",
       "        1.        , 0.        , 1.        , 1.        ],\n",
       "       [0.        , 1.        , 0.        , 1.        , 0.        ,\n",
       "        1.        , 0.        , 1.        , 0.        , 0.        ,\n",
       "        1.        , 1.        , 0.        , 1.        , 0.        ,\n",
       "        0.        , 0.        , 0.        , 0.        , 0.        ,\n",
       "        0.        , 0.        , 0.        , 0.        , 1.        ,\n",
       "        0.        , 1.        , 1.        , 1.        , 0.        ,\n",
       "        0.        , 1.        , 0.        , 1.        , 0.        ,\n",
       "        0.        , 1.        , 0.        , 1.        , 0.        ,\n",
       "        0.        , 1.        , 0.        , 1.        , 0.        ,\n",
       "        0.        , 1.        , 1.        , 1.        ],\n",
       "       [0.        , 0.        , 0.        , 1.        , 0.        ,\n",
       "        1.        , 1.        , 0.        , 0.        , 0.        ,\n",
       "        1.        , 0.        , 0.        , 1.        , 0.        ,\n",
       "        0.        , 0.        , 0.        , 0.        , 0.        ,\n",
       "        0.        , 0.        , 0.        , 0.        , 1.        ,\n",
       "        0.        , 1.        , 0.        , 1.        , 0.        ,\n",
       "        0.        , 1.        , 0.        , 1.        , 1.        ,\n",
       "        0.        , 0.        , 1.        , 0.        , 0.        ,\n",
       "        0.        , 1.        , 0.        , 1.        , 0.        ,\n",
       "        0.        , 1.        , 1.        , 1.        ],\n",
       "       [0.96666667, 0.75      , 1.        , 0.        , 1.        ,\n",
       "        0.        , 0.        , 1.        , 0.        , 1.        ,\n",
       "        1.        , 1.        , 0.        , 0.        , 1.        ,\n",
       "        0.        , 0.        , 1.        , 0.        , 0.        ,\n",
       "        0.        , 1.        , 0.        , 0.        , 0.        ,\n",
       "        1.        , 0.        , 1.        , 0.        , 1.        ,\n",
       "        0.        , 0.        , 0.        , 0.        , 0.        ,\n",
       "        1.        , 0.        , 1.        , 0.        , 0.        ,\n",
       "        0.        , 0.        , 1.        , 0.        , 1.        ,\n",
       "        0.        , 0.        , 1.        , 1.        ]])"
      ]
     },
     "execution_count": 297,
     "metadata": {},
     "output_type": "execute_result"
    }
   ],
   "source": [
    "'''\n",
    "Display the matrix of features with high variance from test set.\n",
    "'''\n",
    "test_features_high_variance[0:5]"
   ]
  },
  {
   "cell_type": "markdown",
   "id": "e4a90bb9",
   "metadata": {},
   "source": [
    "### Part 1.15 - Repeat step 7 with the high variance data."
   ]
  },
  {
   "cell_type": "code",
   "execution_count": 298,
   "id": "a72f6eed",
   "metadata": {},
   "outputs": [
    {
     "data": {
      "text/plain": [
       "LinearRegression()"
      ]
     },
     "execution_count": 298,
     "metadata": {},
     "output_type": "execute_result"
    }
   ],
   "source": [
    "'''\n",
    "Create the linear regression model with the high variance training data.\n",
    "'''\n",
    "regressor = linear_model.LinearRegression()\n",
    "model_high_variance = regressor.fit(train_features_high_variance, y_train)\n",
    "model_high_variance"
   ]
  },
  {
   "cell_type": "code",
   "execution_count": 299,
   "id": "16e386e1",
   "metadata": {},
   "outputs": [
    {
     "data": {
      "text/plain": [
       "4.848965475443987e+16"
      ]
     },
     "execution_count": 299,
     "metadata": {},
     "output_type": "execute_result"
    }
   ],
   "source": [
    "'''\n",
    "View the intercept of the model with the high variance training features.\n",
    "'''\n",
    "model_high_variance.intercept_"
   ]
  },
  {
   "cell_type": "code",
   "execution_count": 300,
   "id": "4be0520e",
   "metadata": {},
   "outputs": [
    {
     "data": {
      "text/plain": [
       "array([ 3.21925755e+04, -9.72720659e+03,  1.51276895e+04, -5.45694536e+03,\n",
       "       -1.61620651e+04, -2.05488341e+04, -4.54506303e+03, -4.98878178e+03,\n",
       "       -6.71370904e+03,  8.97788669e+03,  3.03750830e+04, -1.16668444e+04,\n",
       "        1.63671368e+04, -9.90222928e+03,  1.03590931e+04, -2.87072569e+04,\n",
       "       -3.56081257e+04, -3.39744182e+04, -2.28172961e+04,  7.11053765e+03,\n",
       "        1.77462496e+04,  5.85054580e+03,  9.47275084e+03, -7.14956874e+03,\n",
       "       -2.33061332e+04, -1.73828241e+04, -4.45334934e+04,  4.57408053e+03,\n",
       "       -3.06435429e+03,  3.59096297e+03, -3.76365352e+04, -4.31116151e+04,\n",
       "       -2.16448932e+04, -2.55585192e+04, -1.86013544e+02,  1.13781799e+04,\n",
       "       -1.07239799e+04,  1.90135138e+04,  4.76178639e+03,  1.34233665e+04,\n",
       "       -2.61343341e+04, -3.48224570e+04, -1.54320147e+03, -3.58457245e+03,\n",
       "       -4.84896548e+16, -4.84896548e+16, -4.84896548e+16, -7.51196211e+03,\n",
       "       -1.21598336e+03])"
      ]
     },
     "execution_count": 300,
     "metadata": {},
     "output_type": "execute_result"
    }
   ],
   "source": [
    "'''\n",
    "View the coefficients of the model with the high variance training features.\n",
    "'''\n",
    "model_high_variance.coef_"
   ]
  },
  {
   "cell_type": "code",
   "execution_count": 301,
   "id": "ba7db91c",
   "metadata": {},
   "outputs": [
    {
     "data": {
      "text/plain": [
       "array([106160., 181784., 113008., ..., 168936., 168824., 191736.])"
      ]
     },
     "execution_count": 301,
     "metadata": {},
     "output_type": "execute_result"
    }
   ],
   "source": [
    "'''\n",
    "Create predictions for SalesPrice based on high variance feature training data set.\n",
    "'''\n",
    "y_predict_hv_trained = regressor.predict(train_features_high_variance)\n",
    "y_predict_hv_trained"
   ]
  },
  {
   "cell_type": "code",
   "execution_count": 302,
   "id": "ec01b5b7",
   "metadata": {},
   "outputs": [
    {
     "data": {
      "text/plain": [
       "array([179760., 289608.,  68536., 110592., 345616., 107016., 195824.,\n",
       "       124080.,  98992., 116624., 101920., 122048., 142704., 217880.,\n",
       "       173800., 136840., 221368., 169656.,  96536., 228552., 184104.,\n",
       "       192720., 239744., 145808., 211808., 194048., 229688.,  95936.,\n",
       "       180320., 185448., 188712., 247936., 183448., 100520., 233848.,\n",
       "       116152., 110920., 218528., 240936.,  92256., 100880., 228688.,\n",
       "       122760., 306648., 158144., 171608., 122312., 119400., 401976.,\n",
       "       125384., 102248., 193576., 162368., 242752., 206888., 217936.,\n",
       "       221000., 179504., 148048., 111160.,  93056., 182984., 270352.,\n",
       "       251216., 312720., 167048.,  99200., 305240., 174176., 147192.,\n",
       "       100704., 129328., 131768.,  70736., 370368., 199608., 254456.,\n",
       "       292152., 154272., 121872., 121976., 110216., 123112., 126008.,\n",
       "       205384., 141768., 218976., 201944., 197824., 231616.,  90328.,\n",
       "       213272., 141104., 280680.,  86752., 214304., 189904., 224520.,\n",
       "       224712., 277928., 139224., 245856., 203296., 128256., 205696.,\n",
       "       142440., 166144., 232744., 168016., 230968., 162584., 137016.,\n",
       "       133744., 166832., 219944., 132696., 106040., 100752.,  50496.,\n",
       "       220312., 161776., 171312., 171440., 149768., 176680., 154392.,\n",
       "       238008.,  62368., 142000., 185176., 230240., 316480., 179688.,\n",
       "        96224., 117216., 391192., 317392., 149352., 217272., 368480.,\n",
       "       276608., 159328., 209928., 109384., 152480., 137488., 216256.,\n",
       "       197144., 193104., 127456., 185216., 150240., 194104., 103560.,\n",
       "        92464.,  97400., 130424., 117000., 179792., 147408., 223704.,\n",
       "       117592., 266328., 180448., 118168.,  81968., 241704., 348448.,\n",
       "       396624., 153064., 307200., 118712., 120936., 126552., 263520.,\n",
       "       137584., 101032., 244336., 133096., 190080., 195144., 187696.,\n",
       "       134424., 104344., 282600., 104024., 275048., 233240., 192080.,\n",
       "       106640., 113088., 118600., 149344., 172712., 189976., 214544.,\n",
       "       183168., 123944., 214208., 125544., 186592., 236240., 131488.,\n",
       "       235336., 229656., 135368., 227360.,  96888., 168272., 133288.,\n",
       "       199816., 164360., 108424., 141880., 209800., 211576., 226616.,\n",
       "       144776., 184152., 123216., 137888., 223568., 223464.,  84760.,\n",
       "       216096., 159480., 101616., 134360., 196504., 118640., 134440.,\n",
       "       210256., 159024., 114480., 272768., 156864., 231128., 173832.,\n",
       "       289920., 122752.,  76320., 210832., 220384., 373296., 227800.,\n",
       "       168600., 204088., 164936., 113320.,  80264., 228288., 205568.,\n",
       "       124664., 188960., 179720., 120952., 113136., 124768., 212520.,\n",
       "       244536., 225272., 192592., 116240., 252048., 374232., 266968.,\n",
       "       197936., 175296., 139984., 183368., 329992., 162592., 253904.,\n",
       "       116024.,  73448., 126616., 171280., 294712., 229904., 102504.,\n",
       "       232472., 163088., 207672., 155608., 308680., 148616., 226192.,\n",
       "       221984., 284664., 269224., 135944., 106904.])"
      ]
     },
     "execution_count": 302,
     "metadata": {},
     "output_type": "execute_result"
    }
   ],
   "source": [
    "'''\n",
    "Create predictions for SalesPrice based on high variance feature test data set.\n",
    "'''\n",
    "y_predict_hv_test = regressor.predict(test_features_high_variance)\n",
    "y_predict_hv_test"
   ]
  },
  {
   "cell_type": "code",
   "execution_count": 303,
   "id": "3a9987db",
   "metadata": {},
   "outputs": [
    {
     "name": "stdout",
     "output_type": "stream",
     "text": [
      "R-Squared value for model based on high variance test data set is 0.672.\n"
     ]
    }
   ],
   "source": [
    "'''\n",
    "Calcualte the R-Squared value for the model based on the high variance test data set.\n",
    "'''\n",
    "R2_hv_test = r2_score(y_test, y_predict_hv_test)\n",
    "print('R-Squared value for model based on high variance test data set is {}.'.format(round(R2_hv_test,3)))"
   ]
  },
  {
   "cell_type": "code",
   "execution_count": 304,
   "id": "43bcc711",
   "metadata": {},
   "outputs": [
    {
     "name": "stdout",
     "output_type": "stream",
     "text": [
      "Root Mean Squared Error for model based on high variance test data set is 50145.38\n"
     ]
    }
   ],
   "source": [
    "'''\n",
    "Calculate the Root Mean Squared Error for the model based on the high variance test data set.\n",
    "'''\n",
    "mse_hv_test = mean_squared_error(y_test, y_predict_hv_test)\n",
    "rmse_hv_test = np.sqrt(mse_hv_test)\n",
    "print('Root Mean Squared Error for model based on high variance test data set is {}'.format(round(rmse_hv_test,2)))"
   ]
  },
  {
   "cell_type": "markdown",
   "id": "2799e6d5",
   "metadata": {},
   "source": [
    "### Part 1.16 - Summarize the Findings."
   ]
  },
  {
   "cell_type": "markdown",
   "id": "75b6cf95",
   "metadata": {},
   "source": [
    "<ol>\n",
    "    <li> The R-Squared value for the linear regression model initially based on the test data set is 0.886.\n",
    "    <li> The RMSE for the linear regression model initially based on test data set is 29558.07\n",
    "    <li> The R-Squared value for the linear regression model after applying PCA to the data set is 0.858   \n",
    "    <li> The RMSE for the linear regression model after appying PCA on the test data set is 33056.67\n",
    "    <li> The R-Squared value for the model based on the high variance test data set is 0.672.\n",
    "    <li> The RMSE for the model based on the high variance test data set is 50145.38.\n",
    "    <li> The explained variance does not reduce drastically after PCA was applied to the training data set. There were 130 features eliminated with just under 3% explained variance lost in the model. The feature set was reduced from 271 down to 141 after PCA was applied to the training data.\n",
    "    <li> The high variance model did show a ~20% reduction in explained variance based on the R-Squared reduction.\n",
    "    <li> The RMSE was the lowest on the intial model and highest on the model with the high variance data."
   ]
  },
  {
   "cell_type": "markdown",
   "id": "2dc9c593",
   "metadata": {},
   "source": [
    "## Part 2: Categorical Feature Selection"
   ]
  },
  {
   "cell_type": "markdown",
   "id": "01c99f82",
   "metadata": {},
   "source": [
    "### Part 2.1 - Import the Mushroom Classification data as a data frame and ensure that the data is loaded properly."
   ]
  },
  {
   "cell_type": "code",
   "execution_count": 317,
   "id": "05913d62",
   "metadata": {},
   "outputs": [],
   "source": [
    "'''\n",
    "Section 2.1 - Import Data\n",
    "Import the mushroom data with read_csv() with the file mushrooms.csv.\n",
    "Note: A copy of the TSV file was placed into the same directory as this notebook.\n",
    "'''\n",
    "df_mushrooms = pd.read_csv('mushrooms.csv')"
   ]
  },
  {
   "cell_type": "code",
   "execution_count": 318,
   "id": "ae2a7d2c",
   "metadata": {},
   "outputs": [
    {
     "data": {
      "text/html": [
       "<div>\n",
       "<style scoped>\n",
       "    .dataframe tbody tr th:only-of-type {\n",
       "        vertical-align: middle;\n",
       "    }\n",
       "\n",
       "    .dataframe tbody tr th {\n",
       "        vertical-align: top;\n",
       "    }\n",
       "\n",
       "    .dataframe thead th {\n",
       "        text-align: right;\n",
       "    }\n",
       "</style>\n",
       "<table border=\"1\" class=\"dataframe\">\n",
       "  <thead>\n",
       "    <tr style=\"text-align: right;\">\n",
       "      <th></th>\n",
       "      <th>class</th>\n",
       "      <th>cap-shape</th>\n",
       "      <th>cap-surface</th>\n",
       "      <th>cap-color</th>\n",
       "      <th>bruises</th>\n",
       "      <th>odor</th>\n",
       "      <th>gill-attachment</th>\n",
       "      <th>gill-spacing</th>\n",
       "      <th>gill-size</th>\n",
       "      <th>gill-color</th>\n",
       "      <th>...</th>\n",
       "      <th>stalk-surface-below-ring</th>\n",
       "      <th>stalk-color-above-ring</th>\n",
       "      <th>stalk-color-below-ring</th>\n",
       "      <th>veil-type</th>\n",
       "      <th>veil-color</th>\n",
       "      <th>ring-number</th>\n",
       "      <th>ring-type</th>\n",
       "      <th>spore-print-color</th>\n",
       "      <th>population</th>\n",
       "      <th>habitat</th>\n",
       "    </tr>\n",
       "  </thead>\n",
       "  <tbody>\n",
       "    <tr>\n",
       "      <th>0</th>\n",
       "      <td>p</td>\n",
       "      <td>x</td>\n",
       "      <td>s</td>\n",
       "      <td>n</td>\n",
       "      <td>t</td>\n",
       "      <td>p</td>\n",
       "      <td>f</td>\n",
       "      <td>c</td>\n",
       "      <td>n</td>\n",
       "      <td>k</td>\n",
       "      <td>...</td>\n",
       "      <td>s</td>\n",
       "      <td>w</td>\n",
       "      <td>w</td>\n",
       "      <td>p</td>\n",
       "      <td>w</td>\n",
       "      <td>o</td>\n",
       "      <td>p</td>\n",
       "      <td>k</td>\n",
       "      <td>s</td>\n",
       "      <td>u</td>\n",
       "    </tr>\n",
       "    <tr>\n",
       "      <th>1</th>\n",
       "      <td>e</td>\n",
       "      <td>x</td>\n",
       "      <td>s</td>\n",
       "      <td>y</td>\n",
       "      <td>t</td>\n",
       "      <td>a</td>\n",
       "      <td>f</td>\n",
       "      <td>c</td>\n",
       "      <td>b</td>\n",
       "      <td>k</td>\n",
       "      <td>...</td>\n",
       "      <td>s</td>\n",
       "      <td>w</td>\n",
       "      <td>w</td>\n",
       "      <td>p</td>\n",
       "      <td>w</td>\n",
       "      <td>o</td>\n",
       "      <td>p</td>\n",
       "      <td>n</td>\n",
       "      <td>n</td>\n",
       "      <td>g</td>\n",
       "    </tr>\n",
       "    <tr>\n",
       "      <th>2</th>\n",
       "      <td>e</td>\n",
       "      <td>b</td>\n",
       "      <td>s</td>\n",
       "      <td>w</td>\n",
       "      <td>t</td>\n",
       "      <td>l</td>\n",
       "      <td>f</td>\n",
       "      <td>c</td>\n",
       "      <td>b</td>\n",
       "      <td>n</td>\n",
       "      <td>...</td>\n",
       "      <td>s</td>\n",
       "      <td>w</td>\n",
       "      <td>w</td>\n",
       "      <td>p</td>\n",
       "      <td>w</td>\n",
       "      <td>o</td>\n",
       "      <td>p</td>\n",
       "      <td>n</td>\n",
       "      <td>n</td>\n",
       "      <td>m</td>\n",
       "    </tr>\n",
       "    <tr>\n",
       "      <th>3</th>\n",
       "      <td>p</td>\n",
       "      <td>x</td>\n",
       "      <td>y</td>\n",
       "      <td>w</td>\n",
       "      <td>t</td>\n",
       "      <td>p</td>\n",
       "      <td>f</td>\n",
       "      <td>c</td>\n",
       "      <td>n</td>\n",
       "      <td>n</td>\n",
       "      <td>...</td>\n",
       "      <td>s</td>\n",
       "      <td>w</td>\n",
       "      <td>w</td>\n",
       "      <td>p</td>\n",
       "      <td>w</td>\n",
       "      <td>o</td>\n",
       "      <td>p</td>\n",
       "      <td>k</td>\n",
       "      <td>s</td>\n",
       "      <td>u</td>\n",
       "    </tr>\n",
       "    <tr>\n",
       "      <th>4</th>\n",
       "      <td>e</td>\n",
       "      <td>x</td>\n",
       "      <td>s</td>\n",
       "      <td>g</td>\n",
       "      <td>f</td>\n",
       "      <td>n</td>\n",
       "      <td>f</td>\n",
       "      <td>w</td>\n",
       "      <td>b</td>\n",
       "      <td>k</td>\n",
       "      <td>...</td>\n",
       "      <td>s</td>\n",
       "      <td>w</td>\n",
       "      <td>w</td>\n",
       "      <td>p</td>\n",
       "      <td>w</td>\n",
       "      <td>o</td>\n",
       "      <td>e</td>\n",
       "      <td>n</td>\n",
       "      <td>a</td>\n",
       "      <td>g</td>\n",
       "    </tr>\n",
       "  </tbody>\n",
       "</table>\n",
       "<p>5 rows × 23 columns</p>\n",
       "</div>"
      ],
      "text/plain": [
       "  class cap-shape cap-surface cap-color bruises odor gill-attachment  \\\n",
       "0     p         x           s         n       t    p               f   \n",
       "1     e         x           s         y       t    a               f   \n",
       "2     e         b           s         w       t    l               f   \n",
       "3     p         x           y         w       t    p               f   \n",
       "4     e         x           s         g       f    n               f   \n",
       "\n",
       "  gill-spacing gill-size gill-color  ... stalk-surface-below-ring  \\\n",
       "0            c         n          k  ...                        s   \n",
       "1            c         b          k  ...                        s   \n",
       "2            c         b          n  ...                        s   \n",
       "3            c         n          n  ...                        s   \n",
       "4            w         b          k  ...                        s   \n",
       "\n",
       "  stalk-color-above-ring stalk-color-below-ring veil-type veil-color  \\\n",
       "0                      w                      w         p          w   \n",
       "1                      w                      w         p          w   \n",
       "2                      w                      w         p          w   \n",
       "3                      w                      w         p          w   \n",
       "4                      w                      w         p          w   \n",
       "\n",
       "  ring-number ring-type spore-print-color population habitat  \n",
       "0           o         p                 k          s       u  \n",
       "1           o         p                 n          n       g  \n",
       "2           o         p                 n          n       m  \n",
       "3           o         p                 k          s       u  \n",
       "4           o         e                 n          a       g  \n",
       "\n",
       "[5 rows x 23 columns]"
      ]
     },
     "execution_count": 318,
     "metadata": {},
     "output_type": "execute_result"
    }
   ],
   "source": [
    "'''\n",
    "Show the mushroom data has been loaded successfully into the data frame \n",
    "by printing the first 5 rows with head().\n",
    "'''\n",
    "df_mushrooms.head()"
   ]
  },
  {
   "cell_type": "code",
   "execution_count": 319,
   "id": "bc8560f9",
   "metadata": {},
   "outputs": [
    {
     "name": "stdout",
     "output_type": "stream",
     "text": [
      "There are 8124 rows and 23 columns in this data frame.\n"
     ]
    }
   ],
   "source": [
    "'''\n",
    "Understand the shape of the dataframe initially.\n",
    "'''\n",
    "print('There are {} rows and {} columns in this data frame.'.format(df_mushrooms.shape[0], df_mushrooms.shape[1]))"
   ]
  },
  {
   "cell_type": "code",
   "execution_count": 320,
   "id": "78c608af",
   "metadata": {},
   "outputs": [
    {
     "name": "stdout",
     "output_type": "stream",
     "text": [
      "This data frame contains 186852 records.\n"
     ]
    }
   ],
   "source": [
    "'''\n",
    "Display the total size of this data frame initially.\n",
    "'''\n",
    "print('This data frame contains {} records.'.format(df_mushrooms.size))"
   ]
  },
  {
   "cell_type": "code",
   "execution_count": 321,
   "id": "ea124ab8",
   "metadata": {},
   "outputs": [
    {
     "data": {
      "text/plain": [
       "class                       0\n",
       "cap-shape                   0\n",
       "cap-surface                 0\n",
       "cap-color                   0\n",
       "bruises                     0\n",
       "odor                        0\n",
       "gill-attachment             0\n",
       "gill-spacing                0\n",
       "gill-size                   0\n",
       "gill-color                  0\n",
       "stalk-shape                 0\n",
       "stalk-root                  0\n",
       "stalk-surface-above-ring    0\n",
       "stalk-surface-below-ring    0\n",
       "stalk-color-above-ring      0\n",
       "stalk-color-below-ring      0\n",
       "veil-type                   0\n",
       "veil-color                  0\n",
       "ring-number                 0\n",
       "ring-type                   0\n",
       "spore-print-color           0\n",
       "population                  0\n",
       "habitat                     0\n",
       "dtype: int64"
      ]
     },
     "execution_count": 321,
     "metadata": {},
     "output_type": "execute_result"
    }
   ],
   "source": [
    "'''\n",
    "Understand if there are any missing values in the data frame.\n",
    "'''\n",
    "df_mushrooms.isna().sum()"
   ]
  },
  {
   "cell_type": "code",
   "execution_count": 322,
   "id": "4b2ada09",
   "metadata": {},
   "outputs": [
    {
     "data": {
      "text/plain": [
       "class                       object\n",
       "cap-shape                   object\n",
       "cap-surface                 object\n",
       "cap-color                   object\n",
       "bruises                     object\n",
       "odor                        object\n",
       "gill-attachment             object\n",
       "gill-spacing                object\n",
       "gill-size                   object\n",
       "gill-color                  object\n",
       "stalk-shape                 object\n",
       "stalk-root                  object\n",
       "stalk-surface-above-ring    object\n",
       "stalk-surface-below-ring    object\n",
       "stalk-color-above-ring      object\n",
       "stalk-color-below-ring      object\n",
       "veil-type                   object\n",
       "veil-color                  object\n",
       "ring-number                 object\n",
       "ring-type                   object\n",
       "spore-print-color           object\n",
       "population                  object\n",
       "habitat                     object\n",
       "dtype: object"
      ]
     },
     "execution_count": 322,
     "metadata": {},
     "output_type": "execute_result"
    }
   ],
   "source": [
    "'''\n",
    "Find the type of data within each column initially.\n",
    "'''\n",
    "df_mushrooms.dtypes"
   ]
  },
  {
   "cell_type": "code",
   "execution_count": 324,
   "id": "06e79007",
   "metadata": {},
   "outputs": [
    {
     "data": {
      "text/plain": [
       "e    4208\n",
       "p    3916\n",
       "Name: class, dtype: int64"
      ]
     },
     "execution_count": 324,
     "metadata": {},
     "output_type": "execute_result"
    }
   ],
   "source": [
    "'''\n",
    "Understand the count of values in the mushrooms dataframe that are edible or poisonous.\n",
    "'''\n",
    "df_mushrooms['class'].value_counts()"
   ]
  },
  {
   "cell_type": "markdown",
   "id": "37f3af41",
   "metadata": {},
   "source": [
    "### Part 2.2 - Convert the categorical features (all of them) to dummy variables."
   ]
  },
  {
   "cell_type": "code",
   "execution_count": 326,
   "id": "912a38b2",
   "metadata": {},
   "outputs": [],
   "source": [
    "'''\n",
    "Initially define the target (dependent, y) and feature (independent, X) data for the mushroom  data. \n",
    "'''\n",
    "y_mush = df_mushrooms['class']\n",
    "X_mush = df_mushrooms.drop(['class'], axis = 1)"
   ]
  },
  {
   "cell_type": "code",
   "execution_count": 327,
   "id": "a2742435",
   "metadata": {},
   "outputs": [],
   "source": [
    "'''\n",
    "Utilize get_dummies() to convert categorical features to dummy variables for the target \n",
    "and feature data.\n",
    "'''\n",
    "y_mush = pd.get_dummies(y_mush)\n",
    "X_mush = pd.get_dummies(X_mush)"
   ]
  },
  {
   "cell_type": "code",
   "execution_count": 328,
   "id": "237f29cc",
   "metadata": {},
   "outputs": [
    {
     "data": {
      "text/html": [
       "<div>\n",
       "<style scoped>\n",
       "    .dataframe tbody tr th:only-of-type {\n",
       "        vertical-align: middle;\n",
       "    }\n",
       "\n",
       "    .dataframe tbody tr th {\n",
       "        vertical-align: top;\n",
       "    }\n",
       "\n",
       "    .dataframe thead th {\n",
       "        text-align: right;\n",
       "    }\n",
       "</style>\n",
       "<table border=\"1\" class=\"dataframe\">\n",
       "  <thead>\n",
       "    <tr style=\"text-align: right;\">\n",
       "      <th></th>\n",
       "      <th>e</th>\n",
       "      <th>p</th>\n",
       "    </tr>\n",
       "  </thead>\n",
       "  <tbody>\n",
       "    <tr>\n",
       "      <th>0</th>\n",
       "      <td>0</td>\n",
       "      <td>1</td>\n",
       "    </tr>\n",
       "    <tr>\n",
       "      <th>1</th>\n",
       "      <td>1</td>\n",
       "      <td>0</td>\n",
       "    </tr>\n",
       "    <tr>\n",
       "      <th>2</th>\n",
       "      <td>1</td>\n",
       "      <td>0</td>\n",
       "    </tr>\n",
       "    <tr>\n",
       "      <th>3</th>\n",
       "      <td>0</td>\n",
       "      <td>1</td>\n",
       "    </tr>\n",
       "    <tr>\n",
       "      <th>4</th>\n",
       "      <td>1</td>\n",
       "      <td>0</td>\n",
       "    </tr>\n",
       "  </tbody>\n",
       "</table>\n",
       "</div>"
      ],
      "text/plain": [
       "   e  p\n",
       "0  0  1\n",
       "1  1  0\n",
       "2  1  0\n",
       "3  0  1\n",
       "4  1  0"
      ]
     },
     "execution_count": 328,
     "metadata": {},
     "output_type": "execute_result"
    }
   ],
   "source": [
    "'''\n",
    "Show the first five rows of the target variable 'class' after converting to dummy variables.\n",
    "'''\n",
    "y_mush.head()"
   ]
  },
  {
   "cell_type": "code",
   "execution_count": 329,
   "id": "ce810acd",
   "metadata": {},
   "outputs": [
    {
     "data": {
      "text/html": [
       "<div>\n",
       "<style scoped>\n",
       "    .dataframe tbody tr th:only-of-type {\n",
       "        vertical-align: middle;\n",
       "    }\n",
       "\n",
       "    .dataframe tbody tr th {\n",
       "        vertical-align: top;\n",
       "    }\n",
       "\n",
       "    .dataframe thead th {\n",
       "        text-align: right;\n",
       "    }\n",
       "</style>\n",
       "<table border=\"1\" class=\"dataframe\">\n",
       "  <thead>\n",
       "    <tr style=\"text-align: right;\">\n",
       "      <th></th>\n",
       "      <th>cap-shape_b</th>\n",
       "      <th>cap-shape_c</th>\n",
       "      <th>cap-shape_f</th>\n",
       "      <th>cap-shape_k</th>\n",
       "      <th>cap-shape_s</th>\n",
       "      <th>cap-shape_x</th>\n",
       "      <th>cap-surface_f</th>\n",
       "      <th>cap-surface_g</th>\n",
       "      <th>cap-surface_s</th>\n",
       "      <th>cap-surface_y</th>\n",
       "      <th>...</th>\n",
       "      <th>population_s</th>\n",
       "      <th>population_v</th>\n",
       "      <th>population_y</th>\n",
       "      <th>habitat_d</th>\n",
       "      <th>habitat_g</th>\n",
       "      <th>habitat_l</th>\n",
       "      <th>habitat_m</th>\n",
       "      <th>habitat_p</th>\n",
       "      <th>habitat_u</th>\n",
       "      <th>habitat_w</th>\n",
       "    </tr>\n",
       "  </thead>\n",
       "  <tbody>\n",
       "    <tr>\n",
       "      <th>0</th>\n",
       "      <td>0</td>\n",
       "      <td>0</td>\n",
       "      <td>0</td>\n",
       "      <td>0</td>\n",
       "      <td>0</td>\n",
       "      <td>1</td>\n",
       "      <td>0</td>\n",
       "      <td>0</td>\n",
       "      <td>1</td>\n",
       "      <td>0</td>\n",
       "      <td>...</td>\n",
       "      <td>1</td>\n",
       "      <td>0</td>\n",
       "      <td>0</td>\n",
       "      <td>0</td>\n",
       "      <td>0</td>\n",
       "      <td>0</td>\n",
       "      <td>0</td>\n",
       "      <td>0</td>\n",
       "      <td>1</td>\n",
       "      <td>0</td>\n",
       "    </tr>\n",
       "    <tr>\n",
       "      <th>1</th>\n",
       "      <td>0</td>\n",
       "      <td>0</td>\n",
       "      <td>0</td>\n",
       "      <td>0</td>\n",
       "      <td>0</td>\n",
       "      <td>1</td>\n",
       "      <td>0</td>\n",
       "      <td>0</td>\n",
       "      <td>1</td>\n",
       "      <td>0</td>\n",
       "      <td>...</td>\n",
       "      <td>0</td>\n",
       "      <td>0</td>\n",
       "      <td>0</td>\n",
       "      <td>0</td>\n",
       "      <td>1</td>\n",
       "      <td>0</td>\n",
       "      <td>0</td>\n",
       "      <td>0</td>\n",
       "      <td>0</td>\n",
       "      <td>0</td>\n",
       "    </tr>\n",
       "    <tr>\n",
       "      <th>2</th>\n",
       "      <td>1</td>\n",
       "      <td>0</td>\n",
       "      <td>0</td>\n",
       "      <td>0</td>\n",
       "      <td>0</td>\n",
       "      <td>0</td>\n",
       "      <td>0</td>\n",
       "      <td>0</td>\n",
       "      <td>1</td>\n",
       "      <td>0</td>\n",
       "      <td>...</td>\n",
       "      <td>0</td>\n",
       "      <td>0</td>\n",
       "      <td>0</td>\n",
       "      <td>0</td>\n",
       "      <td>0</td>\n",
       "      <td>0</td>\n",
       "      <td>1</td>\n",
       "      <td>0</td>\n",
       "      <td>0</td>\n",
       "      <td>0</td>\n",
       "    </tr>\n",
       "    <tr>\n",
       "      <th>3</th>\n",
       "      <td>0</td>\n",
       "      <td>0</td>\n",
       "      <td>0</td>\n",
       "      <td>0</td>\n",
       "      <td>0</td>\n",
       "      <td>1</td>\n",
       "      <td>0</td>\n",
       "      <td>0</td>\n",
       "      <td>0</td>\n",
       "      <td>1</td>\n",
       "      <td>...</td>\n",
       "      <td>1</td>\n",
       "      <td>0</td>\n",
       "      <td>0</td>\n",
       "      <td>0</td>\n",
       "      <td>0</td>\n",
       "      <td>0</td>\n",
       "      <td>0</td>\n",
       "      <td>0</td>\n",
       "      <td>1</td>\n",
       "      <td>0</td>\n",
       "    </tr>\n",
       "    <tr>\n",
       "      <th>4</th>\n",
       "      <td>0</td>\n",
       "      <td>0</td>\n",
       "      <td>0</td>\n",
       "      <td>0</td>\n",
       "      <td>0</td>\n",
       "      <td>1</td>\n",
       "      <td>0</td>\n",
       "      <td>0</td>\n",
       "      <td>1</td>\n",
       "      <td>0</td>\n",
       "      <td>...</td>\n",
       "      <td>0</td>\n",
       "      <td>0</td>\n",
       "      <td>0</td>\n",
       "      <td>0</td>\n",
       "      <td>1</td>\n",
       "      <td>0</td>\n",
       "      <td>0</td>\n",
       "      <td>0</td>\n",
       "      <td>0</td>\n",
       "      <td>0</td>\n",
       "    </tr>\n",
       "  </tbody>\n",
       "</table>\n",
       "<p>5 rows × 117 columns</p>\n",
       "</div>"
      ],
      "text/plain": [
       "   cap-shape_b  cap-shape_c  cap-shape_f  cap-shape_k  cap-shape_s  \\\n",
       "0            0            0            0            0            0   \n",
       "1            0            0            0            0            0   \n",
       "2            1            0            0            0            0   \n",
       "3            0            0            0            0            0   \n",
       "4            0            0            0            0            0   \n",
       "\n",
       "   cap-shape_x  cap-surface_f  cap-surface_g  cap-surface_s  cap-surface_y  \\\n",
       "0            1              0              0              1              0   \n",
       "1            1              0              0              1              0   \n",
       "2            0              0              0              1              0   \n",
       "3            1              0              0              0              1   \n",
       "4            1              0              0              1              0   \n",
       "\n",
       "   ...  population_s  population_v  population_y  habitat_d  habitat_g  \\\n",
       "0  ...             1             0             0          0          0   \n",
       "1  ...             0             0             0          0          1   \n",
       "2  ...             0             0             0          0          0   \n",
       "3  ...             1             0             0          0          0   \n",
       "4  ...             0             0             0          0          1   \n",
       "\n",
       "   habitat_l  habitat_m  habitat_p  habitat_u  habitat_w  \n",
       "0          0          0          0          1          0  \n",
       "1          0          0          0          0          0  \n",
       "2          0          1          0          0          0  \n",
       "3          0          0          0          1          0  \n",
       "4          0          0          0          0          0  \n",
       "\n",
       "[5 rows x 117 columns]"
      ]
     },
     "execution_count": 329,
     "metadata": {},
     "output_type": "execute_result"
    }
   ],
   "source": [
    "'''\n",
    "Show the first 5 rows of the feature variables X_mush after converting to dummy variables.\n",
    "'''\n",
    "X_mush.head()"
   ]
  },
  {
   "cell_type": "markdown",
   "id": "8be592b7",
   "metadata": {},
   "source": [
    "### Part 2.3 - Split the data into a training and test set."
   ]
  },
  {
   "cell_type": "code",
   "execution_count": 330,
   "id": "3a4a0250",
   "metadata": {},
   "outputs": [],
   "source": [
    "'''\n",
    "Split the data with train_test_split from sklearn.\n",
    "Use test_size = 0.2 to split the data into 80% training and 20% testing data.\n",
    "Split the datesets specifically for the decision tree classification and denote with _dt.\n",
    "'''\n",
    "X_train_dt,X_test_dt,y_train_dt,y_test_dt = train_test_split(X_mush, y_mush, test_size = 0.2, random_state = 42)"
   ]
  },
  {
   "cell_type": "code",
   "execution_count": 331,
   "id": "b1f38217",
   "metadata": {},
   "outputs": [
    {
     "name": "stdout",
     "output_type": "stream",
     "text": [
      "The X_train shape is 6499 rows and 117 columns.\n",
      "The y_train shape is 6499 rows.\n",
      "The X_test shape is 1625 rows and 117 columns.\n",
      "The y_test shape is 1625 rows.\n"
     ]
    }
   ],
   "source": [
    "'''\n",
    "Print out the shape of the resulting datasets for training and testing.\n",
    "'''\n",
    "print(\"The X_train shape is {} rows and {} columns.\".format(X_train_dt.shape[0],X_train_dt.shape[1]))\n",
    "print(\"The y_train shape is {} rows.\".format(y_train_dt.shape[0]))\n",
    "print(\"The X_test shape is {} rows and {} columns.\".format(X_test_dt.shape[0],X_test_dt.shape[1]))\n",
    "print(\"The y_test shape is {} rows.\".format(y_test_dt.shape[0]))"
   ]
  },
  {
   "cell_type": "markdown",
   "id": "eb190fb3",
   "metadata": {},
   "source": [
    "### Part 2.4 - Fit a decision tree classifier on the training set."
   ]
  },
  {
   "cell_type": "code",
   "execution_count": 355,
   "id": "80dbe588",
   "metadata": {},
   "outputs": [],
   "source": [
    "'''\n",
    "Create the decision tree classifier.\n",
    "'''\n",
    "dt = DecisionTreeClassifier()"
   ]
  },
  {
   "cell_type": "code",
   "execution_count": 356,
   "id": "a5ff9831",
   "metadata": {},
   "outputs": [
    {
     "data": {
      "text/plain": [
       "DecisionTreeClassifier()"
      ]
     },
     "execution_count": 356,
     "metadata": {},
     "output_type": "execute_result"
    }
   ],
   "source": [
    "'''\n",
    "Fit the decision tree classifier on the training dataset.\n",
    "'''\n",
    "decision_tree_classifier = dt.fit(X_train_dt, y_train_dt )\n",
    "decision_tree_classifier"
   ]
  },
  {
   "cell_type": "markdown",
   "id": "9bb1cbd8",
   "metadata": {},
   "source": [
    "### Part 2.5 - Report the accuracy and create a confusion matrix for the model prediction on the test set."
   ]
  },
  {
   "cell_type": "code",
   "execution_count": 357,
   "id": "812e9507",
   "metadata": {},
   "outputs": [
    {
     "name": "stdout",
     "output_type": "stream",
     "text": [
      "Accuracy: 100.0%\n"
     ]
    }
   ],
   "source": [
    "'''\n",
    "Report the accuracy of the decision tree classifier on the test set.\n",
    "'''\n",
    "dt_accuracy = round((dt.score(X_test_dt, y_test_dt))*100,2) \n",
    "print('Accuracy: {}%'.format(dt_accuracy))"
   ]
  },
  {
   "cell_type": "code",
   "execution_count": 358,
   "id": "8c5b2f33",
   "metadata": {},
   "outputs": [
    {
     "data": {
      "text/plain": [
       "array([[1, 0],\n",
       "       [0, 1],\n",
       "       [0, 1],\n",
       "       ...,\n",
       "       [0, 1],\n",
       "       [0, 1],\n",
       "       [0, 1]], dtype=uint8)"
      ]
     },
     "execution_count": 358,
     "metadata": {},
     "output_type": "execute_result"
    }
   ],
   "source": [
    "'''\n",
    "Obtain the y_predictions for the decision tree classifier and show the result.\n",
    "'''\n",
    "y_predictions_dt = dt.predict(X_test_dt)\n",
    "y_predictions_dt"
   ]
  },
  {
   "cell_type": "code",
   "execution_count": 362,
   "id": "8368d019",
   "metadata": {},
   "outputs": [
    {
     "data": {
      "text/plain": [
       "array([[843,   0],\n",
       "       [  0, 782]], dtype=int64)"
      ]
     },
     "execution_count": 362,
     "metadata": {},
     "output_type": "execute_result"
    }
   ],
   "source": [
    "'''\n",
    "Generate a confusion matrix based on the test data set. \n",
    "'''\n",
    "y_pred_values = y_predictions_dt.argmax(axis = 1)\n",
    "y_true_values = y_test_dt.values.argmax(axis = 1)\n",
    "cm = confusion_matrix(y_pred_values, y_true_values)\n",
    "cm"
   ]
  },
  {
   "cell_type": "code",
   "execution_count": 369,
   "id": "4bf77063",
   "metadata": {},
   "outputs": [
    {
     "data": {
      "image/png": "[encoded data removed]",
      "text/plain": [
       "<Figure size 576x360 with 2 Axes>"
      ]
     },
     "metadata": {
      "needs_background": "light"
     },
     "output_type": "display_data"
    }
   ],
   "source": [
    "'''\n",
    "Plot the confusion matrix so it is clearly labelled and illustrated.\n",
    "'''\n",
    "f, ax = plt.subplots(figsize = (8,5))\n",
    "sns.heatmap(cm, annot = True, linewidths = 0.5, fmt = \".0f\", ax = ax)\n",
    "plt.xlabel('Predicted Outcome')\n",
    "plt.ylabel('True Outcome')\n",
    "plt.title('Confusion Matrix of Mushroom Decision Tree Classifier Model')\n",
    "plt.show()"
   ]
  },
  {
   "cell_type": "markdown",
   "id": "631b4046",
   "metadata": {},
   "source": [
    "### Part 2.6 - Create a visualization of the decision tree."
   ]
  },
  {
   "cell_type": "code",
   "execution_count": 384,
   "id": "0d2270af",
   "metadata": {},
   "outputs": [
    {
     "data": {
      "image/png": "[encoded data removed]",
      "text/plain": [
       "<Figure size 2160x1080 with 1 Axes>"
      ]
     },
     "metadata": {
      "needs_background": "light"
     },
     "output_type": "display_data"
    }
   ],
   "source": [
    "'''\n",
    "Create a visualization of the decision tree with plot_tree().\n",
    "'''\n",
    "plt.figure(figsize = (30,15))\n",
    "feature_names = X_test_dt.columns\n",
    "class_names = y_test_dt.columns\n",
    "\n",
    "dt_plot = plot_tree(dt, feature_names = feature_names, class_names = class_names, filled = True, rounded = True, fontsize = 14)"
   ]
  },
  {
   "cell_type": "markdown",
   "id": "3bbb401e",
   "metadata": {},
   "source": [
    "### Part 2.7 - Use a χ2-statistic selector to pick the five best features for this data (see section 10.4 of the Machine Learning with Python Cookbook)."
   ]
  },
  {
   "cell_type": "code",
   "execution_count": 386,
   "id": "52b4c51b",
   "metadata": {},
   "outputs": [],
   "source": [
    "'''\n",
    "Select five features with the highest chi-squared statistics.\n",
    "'''\n",
    "chi2_selector = SelectKBest(chi2, k=5)\n",
    "features_kbest = chi2_selector.fit_transform(X_mush, y_mush)"
   ]
  },
  {
   "cell_type": "code",
   "execution_count": 388,
   "id": "d8e7a4f5",
   "metadata": {},
   "outputs": [
    {
     "name": "stdout",
     "output_type": "stream",
     "text": [
      "Original number of features:117\n",
      "Reduced number of features:5\n"
     ]
    }
   ],
   "source": [
    "'''\n",
    "Show the reduction in features down to 5.\n",
    "'''\n",
    "print('Original number of features:{}'.format(X_mush.shape[1]))\n",
    "print('Reduced number of features:{}'.format(features_kbest.shape[1]))"
   ]
  },
  {
   "cell_type": "markdown",
   "id": "90b4600b",
   "metadata": {},
   "source": [
    "### Part 2.8 - Which five features were selected in step 7? "
   ]
  },
  {
   "cell_type": "code",
   "execution_count": 400,
   "id": "e8471865",
   "metadata": {},
   "outputs": [],
   "source": [
    "'''\n",
    "Use the get_support() function to mask the columns of X_mush.\n",
    "'''\n",
    "top_five_features = X_mush.columns.values[chi2_selector.get_support()].tolist()"
   ]
  },
  {
   "cell_type": "code",
   "execution_count": 404,
   "id": "74ca4d38",
   "metadata": {},
   "outputs": [
    {
     "name": "stdout",
     "output_type": "stream",
     "text": [
      "The top five features are listed below:\n",
      " ['odor_f', 'odor_n', 'gill-color_b', 'stalk-surface-above-ring_k', 'stalk-surface-below-ring_k']\n"
     ]
    }
   ],
   "source": [
    "'''\n",
    "Show which 5 features were selected from the previous step.\n",
    "'''\n",
    "print('The top five features are listed below:\\n', top_five_features)"
   ]
  },
  {
   "cell_type": "markdown",
   "id": "dc310d18",
   "metadata": {},
   "source": [
    "### Part 2.9 - Repeat steps 4 and 5 with the five best features selected in step 7."
   ]
  },
  {
   "cell_type": "code",
   "execution_count": 426,
   "id": "7709a36e",
   "metadata": {},
   "outputs": [],
   "source": [
    "'''\n",
    "Redefine the target and feature variables after the feature reduction.\n",
    "'''\n",
    "X_reduced = features_kbest\n",
    "y_reduced = y_mush"
   ]
  },
  {
   "cell_type": "code",
   "execution_count": 427,
   "id": "86d724e4",
   "metadata": {},
   "outputs": [],
   "source": [
    "'''\n",
    "Split the data with train_test_split from sklearn.\n",
    "Use test_size = 0.2 to split the data into 80% training and 20% testing data.\n",
    "Split the datesets specifically for the decision tree classification after the feature reduction was performed.\n",
    "'''\n",
    "X_train_reduced,X_test_reduced,y_train_reduced,y_test_reduced = train_test_split(X_reduced, y_reduced, \n",
    "                                                                                 test_size = 0.2, random_state = 42)"
   ]
  },
  {
   "cell_type": "code",
   "execution_count": 428,
   "id": "15ffde3c",
   "metadata": {},
   "outputs": [
    {
     "name": "stdout",
     "output_type": "stream",
     "text": [
      "The X_train_reduced shape is 6499 rows and 5 columns.\n",
      "The y_train_reduced shape is 6499 rows.\n",
      "The X_test_reduced shape is 1625 rows and 5 columns.\n",
      "The y_test_reduced shape is 1625 rows.\n"
     ]
    }
   ],
   "source": [
    "'''\n",
    "Print out the shape of the resulting datasets for training and testing.\n",
    "'''\n",
    "print(\"The X_train_reduced shape is {} rows and {} columns.\".format(X_train_reduced.shape[0],X_train_reduced.shape[1]))\n",
    "print(\"The y_train_reduced shape is {} rows.\".format(y_train_reduced.shape[0]))\n",
    "print(\"The X_test_reduced shape is {} rows and {} columns.\".format(X_test_reduced.shape[0],X_test_reduced.shape[1]))\n",
    "print(\"The y_test_reduced shape is {} rows.\".format(y_test_reduced.shape[0]))"
   ]
  },
  {
   "cell_type": "code",
   "execution_count": 429,
   "id": "94932c66",
   "metadata": {},
   "outputs": [
    {
     "data": {
      "text/plain": [
       "DecisionTreeClassifier()"
      ]
     },
     "execution_count": 429,
     "metadata": {},
     "output_type": "execute_result"
    }
   ],
   "source": [
    "'''\n",
    "Fit the decision tree classifier on the reduced feature training dataset.\n",
    "'''\n",
    "decision_tree_classifier_reduced = dt.fit(X_train_reduced, y_train_reduced )\n",
    "decision_tree_classifier_reduced"
   ]
  },
  {
   "cell_type": "code",
   "execution_count": 430,
   "id": "1b2a3f8a",
   "metadata": {},
   "outputs": [
    {
     "name": "stdout",
     "output_type": "stream",
     "text": [
      "Accuracy: 92.68%\n"
     ]
    }
   ],
   "source": [
    "'''\n",
    "Report the accuracy of the decision tree classifier on the reduced feature test set.\n",
    "'''\n",
    "dt_accuracy_reduced = round((dt.score(X_test_reduced, y_test_reduced))*100,2) \n",
    "print('Accuracy: {}%'.format(dt_accuracy_reduced))"
   ]
  },
  {
   "cell_type": "code",
   "execution_count": 431,
   "id": "8ce237e8",
   "metadata": {},
   "outputs": [
    {
     "data": {
      "text/plain": [
       "array([[1, 0],\n",
       "       [0, 1],\n",
       "       [0, 1],\n",
       "       ...,\n",
       "       [0, 1],\n",
       "       [0, 1],\n",
       "       [0, 1]], dtype=uint8)"
      ]
     },
     "execution_count": 431,
     "metadata": {},
     "output_type": "execute_result"
    }
   ],
   "source": [
    "'''\n",
    "Obtain the y_predictions for the decision tree classifier and show the result.\n",
    "'''\n",
    "y_predictions_reduced = dt.predict(X_test_reduced)\n",
    "y_predictions_reduced"
   ]
  },
  {
   "cell_type": "code",
   "execution_count": 432,
   "id": "496ee653",
   "metadata": {},
   "outputs": [
    {
     "data": {
      "text/plain": [
       "array([[843, 119],\n",
       "       [  0, 663]], dtype=int64)"
      ]
     },
     "execution_count": 432,
     "metadata": {},
     "output_type": "execute_result"
    }
   ],
   "source": [
    "'''\n",
    "Generate a confusion matrix based on the reduced feature test data set. \n",
    "'''\n",
    "y_pred_values_reduced = y_predictions_reduced.argmax(axis = 1)\n",
    "y_true_values_reduced = y_test_reduced.values.argmax(axis = 1)\n",
    "cm_reduced = confusion_matrix(y_pred_values_reduced, y_true_values_reduced)\n",
    "cm_reduced"
   ]
  },
  {
   "cell_type": "code",
   "execution_count": 433,
   "id": "cac87e52",
   "metadata": {},
   "outputs": [
    {
     "data": {
      "image/png": "[encoded data removed]",
      "text/plain": [
       "<Figure size 576x360 with 2 Axes>"
      ]
     },
     "metadata": {
      "needs_background": "light"
     },
     "output_type": "display_data"
    }
   ],
   "source": [
    "'''\n",
    "Plot the confusion matrix so it is clearly labelled and illustrated for the reduced feature decision tree model.\n",
    "'''\n",
    "f, ax = plt.subplots(figsize = (8,5))\n",
    "sns.heatmap(cm_reduced, annot = True, linewidths = 0.5, fmt = \".0f\", ax = ax)\n",
    "plt.xlabel('Predicted Outcome')\n",
    "plt.ylabel('True Outcome')\n",
    "plt.title('Confusion Matrix of Mushroom Decision Tree Classifier Model with Reduced Features')\n",
    "plt.show()"
   ]
  },
  {
   "cell_type": "markdown",
   "id": "c8cbe278",
   "metadata": {},
   "source": [
    "### Part 2.10 - Summarize your findings."
   ]
  },
  {
   "cell_type": "markdown",
   "id": "3b14e1d0",
   "metadata": {},
   "source": [
    "<ol>\n",
    "    <li> The accuracy for the Decision Tree Classification Model initially was 100%.\n",
    "    <li> The accuracy for the Decision Tree Classification Model with reduced features down to 5 was 92.68%.\n",
    "    <li> There were 119 cases of mushrooms predicted as poisonous, but were actually edible for the reduced feature model.\n",
    "    <li> The visualization plot of the Decision Tree Classification illustrates the breakdown of the initial model in section 2.6.\n",
    "    <li> The five best features chosen for the reduced model were 'odor_f', 'odor_n', 'gill-color_b', 'stalk-surface-above-ring_k', 'stalk-surface-below-ring_k'.   "
   ]
  }
 ],
 "metadata": {
  "kernelspec": {
   "display_name": "Python 3 (ipykernel)",
   "language": "python",
   "name": "python3"
  },
  "language_info": {
   "codemirror_mode": {
    "name": "ipython",
    "version": 3
   },
   "file_extension": ".py",
   "mimetype": "text/x-python",
   "name": "python",
   "nbconvert_exporter": "python",
   "pygments_lexer": "ipython3",
   "version": "3.9.7"
  }
 },
 "nbformat": 4,
 "nbformat_minor": 5
}
